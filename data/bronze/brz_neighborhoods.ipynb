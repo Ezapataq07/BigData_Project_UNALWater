{
 "cells": [
  {
   "cell_type": "markdown",
   "metadata": {
    "application/vnd.databricks.v1+cell": {
     "cellMetadata": {
      "byteLimit": 2048000,
      "rowLimit": 10000
     },
     "inputWidgets": {},
     "nuid": "9e242e87-c7e0-4592-8177-e4eb5cd6c5d6",
     "showTitle": false,
     "tableResultSettingsMap": {},
     "title": ""
    }
   },
   "source": [
    "# Notebook to store neighborhoods records (JSON) into bronze.neighborhoods table"
   ]
  },
  {
   "cell_type": "markdown",
   "metadata": {
    "application/vnd.databricks.v1+cell": {
     "cellMetadata": {
      "byteLimit": 2048000,
      "rowLimit": 10000
     },
     "inputWidgets": {},
     "nuid": "bc868aae-aecd-4171-ab23-95a8b5c27d4e",
     "showTitle": false,
     "tableResultSettingsMap": {},
     "title": ""
    }
   },
   "source": [
    "Define constant variables (location, target entity)"
   ]
  },
  {
   "cell_type": "code",
   "execution_count": 0,
   "metadata": {
    "application/vnd.databricks.v1+cell": {
     "cellMetadata": {
      "byteLimit": 2048000,
      "rowLimit": 10000
     },
     "inputWidgets": {},
     "nuid": "dbf081ed-c754-492e-bada-75ebf8270ca0",
     "showTitle": false,
     "tableResultSettingsMap": {},
     "title": ""
    }
   },
   "outputs": [],
   "source": [
    "%run ../../config/utils"
   ]
  },
  {
   "cell_type": "code",
   "execution_count": 0,
   "metadata": {
    "application/vnd.databricks.v1+cell": {
     "cellMetadata": {
      "byteLimit": 2048000,
      "rowLimit": 10000
     },
     "inputWidgets": {},
     "nuid": "4fc55658-9b6c-4f5c-a37e-dab69d6eeee6",
     "showTitle": false,
     "tableResultSettingsMap": {},
     "title": ""
    }
   },
   "outputs": [],
   "source": [
    "TARGET_TABLE=\"brz_neighborhoods\""
   ]
  },
  {
   "cell_type": "markdown",
   "metadata": {
    "application/vnd.databricks.v1+cell": {
     "cellMetadata": {
      "byteLimit": 2048000,
      "rowLimit": 10000
     },
     "inputWidgets": {},
     "nuid": "6b06bb97-a68a-413d-a8eb-f97c1a572f44",
     "showTitle": false,
     "tableResultSettingsMap": {},
     "title": ""
    }
   },
   "source": [
    "### Getting the neighborhoods (parquet)"
   ]
  },
  {
   "cell_type": "code",
   "execution_count": 0,
   "metadata": {
    "application/vnd.databricks.v1+cell": {
     "cellMetadata": {
      "byteLimit": 2048000,
      "rowLimit": 10000
     },
     "inputWidgets": {},
     "nuid": "07371ab1-f99a-475f-9d50-d02aedf35134",
     "showTitle": false,
     "tableResultSettingsMap": {},
     "title": ""
    }
   },
   "outputs": [],
   "source": [
    "df_neighborhoods=spark.read.parquet(neighborhoods_volume_path)\n",
    "df_neighborhoods.createOrReplaceTempView(\"neighborhoods\")"
   ]
  },
  {
   "cell_type": "markdown",
   "metadata": {
    "application/vnd.databricks.v1+cell": {
     "cellMetadata": {
      "byteLimit": 2048000,
      "rowLimit": 10000
     },
     "inputWidgets": {},
     "nuid": "7ab6d3ba-e75b-4e3e-82b4-0a3c4fecfb78",
     "showTitle": false,
     "tableResultSettingsMap": {},
     "title": ""
    }
   },
   "source": [
    "### Write into bronze.neighborhoods"
   ]
  },
  {
   "cell_type": "code",
   "execution_count": 0,
   "metadata": {
    "application/vnd.databricks.v1+cell": {
     "cellMetadata": {
      "byteLimit": 2048000,
      "rowLimit": 10000
     },
     "inputWidgets": {},
     "nuid": "cd91f312-9d60-4982-a74f-b9123fbe94c1",
     "showTitle": false,
     "tableResultSettingsMap": {},
     "title": ""
    }
   },
   "outputs": [],
   "source": [
    "spark.sql(f\"\"\"\n",
    "  MERGE INTO {catalog_name}.{bronze_schema_name}.{TARGET_TABLE} AS target\n",
    "  USING neighborhoods AS source\n",
    "  ON target.OBJECTID = source.OBJECTID\n",
    "  WHEN MATCHED AND (\n",
    "      target.CODIGO <> source.CODIGO OR\n",
    "      target.NOMBRE <> source.NOMBRE OR\n",
    "      target.IDENTIFICACION <> source.IDENTIFICACION OR\n",
    "      target.LIMITEMUNICIPIOID <> source.LIMITEMUNICIPIOID OR\n",
    "      target.SUBTIPO_COMUNACORREGIMIENTO <> source.SUBTIPO_COMUNACORREGIMIENTO OR\n",
    "      target.LINK_DOCUMENTO <> source.LINK_DOCUMENTO OR\n",
    "      target.SHAPEAREA <> source.SHAPEAREA OR\n",
    "      target.SHAPELEN <> source.SHAPELEN OR\n",
    "      target.geometry <> source.geometry\n",
    "  ) THEN\n",
    "    UPDATE SET\n",
    "      target.CODIGO = source.CODIGO,\n",
    "      target.NOMBRE = source.NOMBRE,\n",
    "      target.IDENTIFICACION = source.IDENTIFICACION,\n",
    "      target.LIMITEMUNICIPIOID = source.LIMITEMUNICIPIOID,\n",
    "      target.SUBTIPO_COMUNACORREGIMIENTO = source.SUBTIPO_COMUNACORREGIMIENTO,\n",
    "      target.LINK_DOCUMENTO = source.LINK_DOCUMENTO,\n",
    "      target.SHAPEAREA = source.SHAPEAREA,\n",
    "      target.SHAPELEN = source.SHAPELEN,\n",
    "      target.geometry = source.geometry\n",
    "  WHEN NOT MATCHED THEN\n",
    "    INSERT (\n",
    "      OBJECTID,\n",
    "      CODIGO,\n",
    "      NOMBRE,\n",
    "      IDENTIFICACION,\n",
    "      LIMITEMUNICIPIOID,\n",
    "      SUBTIPO_COMUNACORREGIMIENTO,\n",
    "      LINK_DOCUMENTO,\n",
    "      SHAPEAREA,\n",
    "      SHAPELEN,\n",
    "      geometry\n",
    "    )\n",
    "    VALUES (\n",
    "      source.OBJECTID,\n",
    "      source.CODIGO,\n",
    "      source.NOMBRE,\n",
    "      source.IDENTIFICACION,\n",
    "      source.LIMITEMUNICIPIOID,\n",
    "      source.SUBTIPO_COMUNACORREGIMIENTO,\n",
    "      source.LINK_DOCUMENTO,\n",
    "      source.SHAPEAREA,\n",
    "      source.SHAPELEN,\n",
    "      source.geometry\n",
    "    )\n",
    "\"\"\")"
   ]
  }
 ],
 "metadata": {
  "application/vnd.databricks.v1+notebook": {
   "computePreferences": {
    "hardware": {
     "accelerator": null,
     "gpuPoolId": null,
     "memory": null
    }
   },
   "dashboards": [],
   "environmentMetadata": {
    "base_environment": "",
    "dependencies": [
     "shapely==2.1.1"
    ],
    "environment_version": "2"
   },
   "inputWidgetPreferences": null,
   "language": "python",
   "notebookMetadata": {
    "pythonIndentUnit": 4
   },
   "notebookName": "brz_neighborhoods",
   "widgets": {}
  },
  "language_info": {
   "name": "python"
  }
 },
 "nbformat": 4,
 "nbformat_minor": 0
}
