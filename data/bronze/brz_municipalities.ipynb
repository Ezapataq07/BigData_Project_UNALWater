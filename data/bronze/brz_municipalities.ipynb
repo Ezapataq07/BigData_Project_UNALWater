{
 "cells": [
  {
   "cell_type": "markdown",
   "metadata": {
    "application/vnd.databricks.v1+cell": {
     "cellMetadata": {
      "byteLimit": 2048000,
      "rowLimit": 10000
     },
     "inputWidgets": {},
     "nuid": "9e242e87-c7e0-4592-8177-e4eb5cd6c5d6",
     "showTitle": false,
     "tableResultSettingsMap": {},
     "title": ""
    }
   },
   "source": [
    "# Notebook to store municipalities records (JSON) into bronze.municipalities table"
   ]
  },
  {
   "cell_type": "markdown",
   "metadata": {
    "application/vnd.databricks.v1+cell": {
     "cellMetadata": {
      "byteLimit": 2048000,
      "rowLimit": 10000
     },
     "inputWidgets": {},
     "nuid": "bc868aae-aecd-4171-ab23-95a8b5c27d4e",
     "showTitle": false,
     "tableResultSettingsMap": {},
     "title": ""
    }
   },
   "source": [
    "Define constant variables (location, target entity)"
   ]
  },
  {
   "cell_type": "code",
   "execution_count": 0,
   "metadata": {
    "application/vnd.databricks.v1+cell": {
     "cellMetadata": {
      "byteLimit": 2048000,
      "rowLimit": 10000
     },
     "inputWidgets": {},
     "nuid": "dbf081ed-c754-492e-bada-75ebf8270ca0",
     "showTitle": false,
     "tableResultSettingsMap": {},
     "title": ""
    }
   },
   "outputs": [],
   "source": [
    "%run ../../config/utils"
   ]
  },
  {
   "cell_type": "code",
   "execution_count": 0,
   "metadata": {
    "application/vnd.databricks.v1+cell": {
     "cellMetadata": {
      "byteLimit": 2048000,
      "rowLimit": 10000
     },
     "inputWidgets": {},
     "nuid": "4fc55658-9b6c-4f5c-a37e-dab69d6eeee6",
     "showTitle": false,
     "tableResultSettingsMap": {},
     "title": ""
    }
   },
   "outputs": [],
   "source": [
    "TARGET_TABLE=\"brz_municipalities\""
   ]
  },
  {
   "cell_type": "markdown",
   "metadata": {
    "application/vnd.databricks.v1+cell": {
     "cellMetadata": {
      "byteLimit": 2048000,
      "rowLimit": 10000
     },
     "inputWidgets": {},
     "nuid": "6b06bb97-a68a-413d-a8eb-f97c1a572f44",
     "showTitle": false,
     "tableResultSettingsMap": {},
     "title": ""
    }
   },
   "source": [
    "### Getting the municipalities (parquet)"
   ]
  },
  {
   "cell_type": "code",
   "execution_count": 0,
   "metadata": {
    "application/vnd.databricks.v1+cell": {
     "cellMetadata": {
      "byteLimit": 2048000,
      "rowLimit": 10000
     },
     "inputWidgets": {},
     "nuid": "07371ab1-f99a-475f-9d50-d02aedf35134",
     "showTitle": false,
     "tableResultSettingsMap": {},
     "title": ""
    }
   },
   "outputs": [],
   "source": [
    "df_municipalities=spark.read.parquet(municipalities_volume_path)\n",
    "df_municipalities.createOrReplaceTempView(\"municipalities\")"
   ]
  },
  {
   "cell_type": "markdown",
   "metadata": {
    "application/vnd.databricks.v1+cell": {
     "cellMetadata": {
      "byteLimit": 2048000,
      "rowLimit": 10000
     },
     "inputWidgets": {},
     "nuid": "7ab6d3ba-e75b-4e3e-82b4-0a3c4fecfb78",
     "showTitle": false,
     "tableResultSettingsMap": {},
     "title": ""
    }
   },
   "source": [
    "### Write into bronze.municipalities"
   ]
  },
  {
   "cell_type": "code",
   "execution_count": 0,
   "metadata": {
    "application/vnd.databricks.v1+cell": {
     "cellMetadata": {
      "byteLimit": 2048000,
      "rowLimit": 10000
     },
     "inputWidgets": {},
     "nuid": "cd91f312-9d60-4982-a74f-b9123fbe94c1",
     "showTitle": false,
     "tableResultSettingsMap": {},
     "title": ""
    }
   },
   "outputs": [],
   "source": [
    "spark.sql(f\"\"\"\n",
    "  MERGE INTO {catalog_name}.{bronze_schema_name}.{TARGET_TABLE} AS target\n",
    "  USING municipalities AS source\n",
    "  ON target.DPTOMPIO = source.DPTOMPIO\n",
    "  WHEN MATCHED AND (\n",
    "      target.DPTO_CCDGO IS DISTINCT FROM source.DPTO_CCDGO OR\n",
    "      target.MPIO_CCDGO IS DISTINCT FROM source.MPIO_CCDGO OR\n",
    "      target.MPIO_CNMBR IS DISTINCT FROM source.MPIO_CNMBR OR\n",
    "      target.MPIO_CCNCT IS DISTINCT FROM source.MPIO_CCNCT OR\n",
    "      target.geometry   IS DISTINCT FROM source.geometry\n",
    "  ) THEN\n",
    "    UPDATE SET\n",
    "      target.DPTO_CCDGO = source.DPTO_CCDGO,\n",
    "      target.MPIO_CCDGO = source.MPIO_CCDGO,\n",
    "      target.MPIO_CNMBR = source.MPIO_CNMBR,\n",
    "      target.MPIO_CCNCT = source.MPIO_CCNCT,\n",
    "      target.geometry   = source.geometry\n",
    "  WHEN NOT MATCHED THEN\n",
    "    INSERT (\n",
    "      DPTOMPIO,\n",
    "      DPTO_CCDGO,\n",
    "      MPIO_CCDGO,\n",
    "      MPIO_CNMBR,\n",
    "      MPIO_CCNCT,\n",
    "      geometry\n",
    "    )\n",
    "    VALUES (\n",
    "      source.DPTOMPIO,\n",
    "      source.DPTO_CCDGO,\n",
    "      source.MPIO_CCDGO,\n",
    "      source.MPIO_CNMBR,\n",
    "      source.MPIO_CCNCT,\n",
    "      source.geometry\n",
    "    )\n",
    "\"\"\")"
   ]
  }
 ],
 "metadata": {
  "application/vnd.databricks.v1+notebook": {
   "computePreferences": {
    "hardware": {
     "accelerator": null,
     "gpuPoolId": null,
     "memory": null
    }
   },
   "dashboards": [],
   "environmentMetadata": {
    "base_environment": "",
    "dependencies": [
     "shapely==2.1.1"
    ],
    "environment_version": "2"
   },
   "inputWidgetPreferences": null,
   "language": "python",
   "notebookMetadata": {
    "pythonIndentUnit": 4
   },
   "notebookName": "brz_municipalities",
   "widgets": {}
  },
  "language_info": {
   "name": "python"
  }
 },
 "nbformat": 4,
 "nbformat_minor": 0
}
