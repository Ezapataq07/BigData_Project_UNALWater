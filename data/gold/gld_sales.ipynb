{
 "cells": [
  {
   "cell_type": "code",
   "execution_count": 0,
   "metadata": {
    "application/vnd.databricks.v1+cell": {
     "cellMetadata": {
      "byteLimit": 2048000,
      "rowLimit": 10000
     },
     "inputWidgets": {},
     "nuid": "1aa8511a-ae54-40ab-980b-31d8131a9f1b",
     "showTitle": false,
     "tableResultSettingsMap": {},
     "title": ""
    }
   },
   "outputs": [],
   "source": [
    "%run ../../config/variables"
   ]
  },
  {
   "cell_type": "code",
   "execution_count": 0,
   "metadata": {
    "application/vnd.databricks.v1+cell": {
     "cellMetadata": {
      "byteLimit": 2048000,
      "rowLimit": 10000
     },
     "inputWidgets": {},
     "nuid": "af1a0f45-d203-4dea-a59b-6893de8ede95",
     "showTitle": false,
     "tableResultSettingsMap": {},
     "title": ""
    }
   },
   "outputs": [],
   "source": [
    "ORIGIN_TABLE=\"slv_sales\"\n",
    "BASE_DF_TARGET_TABLE=\"gld_sales\"\n",
    "SALES_PER_DISTRICT_TARGET_TABLE=\"gld_sales_districts\"\n",
    "SALES_PER_EMPLOYEE_TARGET_TABLE=\"gld_sales_employees\"\n",
    "CUSTOMERS_PER_DISTRICT_TARGET_TABLE=\"gld_customers_districts\"\n",
    "BEST_CUSTOMERS_TARGET_TABLE=\"gld_best_customers\"\n",
    "BEST_EMPLOYEES_TARGET_TABLE=\"gld_best_employees\""
   ]
  },
  {
   "cell_type": "code",
   "execution_count": 0,
   "metadata": {
    "application/vnd.databricks.v1+cell": {
     "cellMetadata": {
      "byteLimit": 2048000,
      "rowLimit": 10000
     },
     "inputWidgets": {},
     "nuid": "4d3de749-b98a-479e-bc8a-9608e7e44df1",
     "showTitle": false,
     "tableResultSettingsMap": {},
     "title": ""
    }
   },
   "outputs": [],
   "source": [
    "#silver_df = spark.readStream.format('delta').option(\"maxFilesPerTrigger\", 10).table(f\"{catalog_name}.{silver_schema_name}.{ORIGIN_TABLE}\")\n",
    "#silver_df=spark.read.table(f\"{catalog_name}.{silver_schema_name}.{ORIGIN_TABLE}\")\n",
    "#silver_df.createOrReplaceTempView(\"sales\")"
   ]
  },
  {
   "cell_type": "markdown",
   "metadata": {
    "application/vnd.databricks.v1+cell": {
     "cellMetadata": {},
     "inputWidgets": {},
     "nuid": "466cb516-964e-41a6-991e-af1eea3f165a",
     "showTitle": false,
     "tableResultSettingsMap": {},
     "title": ""
    }
   },
   "source": [
    "# Read Streaming"
   ]
  },
  {
   "cell_type": "markdown",
   "metadata": {
    "application/vnd.databricks.v1+cell": {
     "cellMetadata": {},
     "inputWidgets": {},
     "nuid": "8e64b431-f947-4c44-b1cb-a9dee865341c",
     "showTitle": false,
     "tableResultSettingsMap": {},
     "title": ""
    }
   },
   "source": [
    "## Base query"
   ]
  },
  {
   "cell_type": "code",
   "execution_count": 0,
   "metadata": {
    "application/vnd.databricks.v1+cell": {
     "cellMetadata": {
      "byteLimit": 2048000,
      "implicitDf": true,
      "rowLimit": 10000
     },
     "inputWidgets": {},
     "nuid": "b6c40a96-cfd7-4cba-a629-671cac93589e",
     "showTitle": false,
     "tableResultSettingsMap": {},
     "title": ""
    }
   },
   "outputs": [],
   "source": [
    "spark.sql(f\"\"\"\n",
    "CREATE OR REPLACE VIEW {catalog_name}.{gold_schema_name}.{BASE_DF_TARGET_TABLE} AS\n",
    "SELECT \n",
    "    s.order_id\n",
    "    ,e.name as employee\n",
    "    ,c.name as customer\n",
    "    ,s.latitude\n",
    "    ,s.longitude\n",
    "    ,s.district\n",
    "    ,s.quantity_products\n",
    "    ,s.partition_date\n",
    "    ,s.event_day\n",
    "    ,s.event_month\n",
    "    ,s.event_year\n",
    "    ,date(s.event_date)\n",
    "FROM \n",
    "    {catalog_name}.{silver_schema_name}.slv_sales as s\n",
    "    JOIN \n",
    "        {catalog_name}.{silver_schema_name}.slv_customers as c\n",
    "    ON \n",
    "        s.customer_id = c.customer_id\n",
    "    JOIN \n",
    "        {catalog_name}.{silver_schema_name}.slv_employees as e\n",
    "    ON\n",
    "        s.employee_id=e.employee_id\n",
    "\"\"\"\n",
    ")\n",
    "#base_df.createOrReplaceTempView(\"base_df\")"
   ]
  },
  {
   "cell_type": "markdown",
   "metadata": {
    "application/vnd.databricks.v1+cell": {
     "cellMetadata": {},
     "inputWidgets": {},
     "nuid": "8e2b53ac-7006-4bbd-83ce-cc9d6feaf369",
     "showTitle": false,
     "tableResultSettingsMap": {},
     "title": ""
    }
   },
   "source": [
    "## Total date's sales per district"
   ]
  },
  {
   "cell_type": "code",
   "execution_count": 0,
   "metadata": {
    "application/vnd.databricks.v1+cell": {
     "cellMetadata": {
      "byteLimit": 2048000,
      "rowLimit": 10000
     },
     "inputWidgets": {},
     "nuid": "44bc94da-6e32-4e34-9b4d-abfd92b655fb",
     "showTitle": false,
     "tableResultSettingsMap": {
      "0": {
       "dataGridStateBlob": "{\"version\":1,\"tableState\":{\"columnPinning\":{\"left\":[\"#row_number#\"],\"right\":[]},\"columnSizing\":{},\"columnVisibility\":{}},\"settings\":{\"columns\":{}},\"syncTimestamp\":1753052554562}",
       "filterBlob": null,
       "queryPlanFiltersBlob": null,
       "tableResultIndex": 0
      }
     },
     "title": ""
    }
   },
   "outputs": [],
   "source": [
    "spark.sql(f\"\"\"\n",
    "CREATE OR REPLACE VIEW {catalog_name}.{gold_schema_name}.{SALES_PER_DISTRICT_TARGET_TABLE} AS\n",
    "SELECT \n",
    "    b.event_date\n",
    "    ,b.district\n",
    "    ,COUNT(b.order_id) as total_sales_per_day\n",
    "    ,DENSE_RANK() OVER (PARTITION BY b.event_date ORDER BY COUNT(b.order_id) DESC) as sales_rank\n",
    "    ,ROUND(\n",
    "        COUNT(b.order_id) * 100.0 / \n",
    "        SUM(COUNT(b.order_id)) OVER (PARTITION BY b.event_date), \n",
    "        2\n",
    "    ) AS percent_total_sales_per_day\n",
    "    ,SUM(b.quantity_products) as  total_products_sold_per_day\n",
    "    ,ROUND(\n",
    "        SUM(b.quantity_products) * 100.0 / \n",
    "        SUM(SUM(b.quantity_products)) OVER (PARTITION BY b.event_date), \n",
    "        2\n",
    "    ) AS percent_products_sold_per_day\n",
    "FROM \n",
    "    {catalog_name}.{gold_schema_name}.{BASE_DF_TARGET_TABLE} b\n",
    "GROUP BY\n",
    "    b.event_date, b.district\n",
    "\"\"\"\n",
    ")"
   ]
  },
  {
   "cell_type": "markdown",
   "metadata": {
    "application/vnd.databricks.v1+cell": {
     "cellMetadata": {},
     "inputWidgets": {},
     "nuid": "211837cb-f108-48bb-abb6-df2621a5f1f2",
     "showTitle": false,
     "tableResultSettingsMap": {},
     "title": ""
    }
   },
   "source": [
    "## Total dates's sales per employees"
   ]
  },
  {
   "cell_type": "code",
   "execution_count": 0,
   "metadata": {
    "application/vnd.databricks.v1+cell": {
     "cellMetadata": {
      "byteLimit": 2048000,
      "rowLimit": 10000
     },
     "inputWidgets": {},
     "nuid": "dbbcf94b-7253-490f-b23a-1f5ed69388bf",
     "showTitle": false,
     "tableResultSettingsMap": {
      "0": {
       "dataGridStateBlob": "{\"version\":1,\"tableState\":{\"columnPinning\":{\"left\":[\"#row_number#\"],\"right\":[]},\"columnSizing\":{},\"columnVisibility\":{}},\"settings\":{\"columns\":{}},\"syncTimestamp\":1753056129764}",
       "filterBlob": null,
       "queryPlanFiltersBlob": null,
       "tableResultIndex": 0
      }
     },
     "title": ""
    }
   },
   "outputs": [],
   "source": [
    "spark.sql(f\"\"\"\n",
    "CREATE OR REPLACE VIEW {catalog_name}.{gold_schema_name}.{SALES_PER_EMPLOYEE_TARGET_TABLE} AS\n",
    "SELECT \n",
    "    b.event_date\n",
    "    ,b.employee\n",
    "    ,ROUND(SUM(b.quantity_products)*100.0/COUNT(b.order_id),2) as employee_effectiveness\n",
    "    ,DENSE_RANK() OVER (PARTITION BY b.event_date ORDER BY SUM(b.quantity_products) * 1.0 / COUNT(b.order_id) DESC) as effectiveness_rank\n",
    "    ,COUNT(b.order_id) as  total_sales_per_day\n",
    "    ,DENSE_RANK() OVER (PARTITION BY b.event_date ORDER BY COUNT(b.order_id) DESC) as sales_rank\n",
    "    ,ROUND(\n",
    "        COUNT(b.order_id) * 100.0 / \n",
    "        SUM(COUNT(b.order_id)) OVER (PARTITION BY b.event_date), \n",
    "        2\n",
    "    ) AS percent_total_sales_per_day\n",
    "    ,SUM(b.quantity_products) as  total_products_sold_per_day\n",
    "    ,ROUND(\n",
    "        SUM(b.quantity_products) * 100.0 / \n",
    "        SUM(SUM(b.quantity_products)) OVER (PARTITION BY b.event_date), \n",
    "        2\n",
    "    ) AS percent_products_sold_per_day\n",
    "FROM \n",
    "    {catalog_name}.{gold_schema_name}.{BASE_DF_TARGET_TABLE} b\n",
    "GROUP BY\n",
    "    b.employee, b.event_date\n",
    "\"\"\"\n",
    ")"
   ]
  },
  {
   "cell_type": "markdown",
   "metadata": {
    "application/vnd.databricks.v1+cell": {
     "cellMetadata": {},
     "inputWidgets": {},
     "nuid": "25148f09-9fc8-468e-ae00-7df81f58e1e5",
     "showTitle": false,
     "tableResultSettingsMap": {},
     "title": ""
    }
   },
   "source": [
    "## Unique customers per year/month and district"
   ]
  },
  {
   "cell_type": "code",
   "execution_count": 0,
   "metadata": {
    "application/vnd.databricks.v1+cell": {
     "cellMetadata": {
      "byteLimit": 2048000,
      "rowLimit": 10000
     },
     "inputWidgets": {},
     "nuid": "da135e24-02c3-448d-9e02-6ca8813ca9eb",
     "showTitle": false,
     "tableResultSettingsMap": {},
     "title": ""
    }
   },
   "outputs": [],
   "source": [
    "spark.sql(f\"\"\"\n",
    "CREATE OR REPLACE VIEW {catalog_name}.{gold_schema_name}.{CUSTOMERS_PER_DISTRICT_TARGET_TABLE} AS\n",
    "SELECT \n",
    "  b.event_year\n",
    "  ,b.event_month\n",
    "  ,b.district\n",
    "  ,COUNT(DISTINCT b.customer) as total_customers_per_district\n",
    "  ,ROUND(\n",
    "        COUNT(DISTINCT b.customer) * 100.0 / \n",
    "        SUM(COUNT(DISTINCT b.customer)) OVER (PARTITION BY b.event_year,b.event_month), \n",
    "        2\n",
    "    ) AS percent_total_customers_per_district\n",
    "  ,COUNT(DISTINCT b.customer) - \n",
    "  LAG(COUNT(DISTINCT b.customer),1, COUNT(DISTINCT b.customer)) OVER (PARTITION BY b.district ORDER BY b.event_year,b.event_month) AS difference_in_customers_from_last_month\n",
    "  ,COUNT(DISTINCT b.employee) as total_employees_per_district\n",
    "  ,ROUND(\n",
    "        COUNT(DISTINCT b.employee) * 100.0 / \n",
    "        SUM(COUNT(DISTINCT b.employee)) OVER (PARTITION BY b.event_year,b.event_month), \n",
    "        2\n",
    "    ) AS percent_total_employees_per_district\n",
    "  ,COUNT(DISTINCT b.employee) - \n",
    "  LAG(COUNT(DISTINCT b.employee),1, COUNT(DISTINCT b.employee)) OVER (PARTITION BY b.district ORDER BY b.event_year,b.event_month) AS difference_in_employees_from_last_month\n",
    "  ,ROUND(COUNT(DISTINCT b.customer)/COUNT(DISTINCT b.employee),0) AS employees_per_customer_ratio\n",
    "  ,SUM(b.quantity_products) AS total_products_sold\n",
    "  ,ROUND(\n",
    "        SUM(b.quantity_products) * 100.0 / \n",
    "        SUM(SUM(b.quantity_products)) OVER (PARTITION BY b.event_year,b.event_month), \n",
    "        2\n",
    "    ) AS percent_total_products_sold\n",
    "  ,SUM(b.quantity_products) - \n",
    "  LAG(SUM(b.quantity_products),1, SUM(b.quantity_products)) OVER (PARTITION BY b.district ORDER BY b.event_year,b.event_month) AS difference_in_products_sold_from_last_month\n",
    "\n",
    "FROM  \n",
    "  {catalog_name}.{gold_schema_name}.{BASE_DF_TARGET_TABLE} b\n",
    "GROUP BY\n",
    "  b.event_year,b.event_month,b.district\n",
    "\"\"\"\n",
    ")"
   ]
  },
  {
   "cell_type": "markdown",
   "metadata": {
    "application/vnd.databricks.v1+cell": {
     "cellMetadata": {},
     "inputWidgets": {},
     "nuid": "716bfed0-67c6-4961-a20f-73dc218e45d3",
     "showTitle": false,
     "tableResultSettingsMap": {},
     "title": ""
    }
   },
   "source": [
    "## Best customers per year-month"
   ]
  },
  {
   "cell_type": "code",
   "execution_count": 0,
   "metadata": {
    "application/vnd.databricks.v1+cell": {
     "cellMetadata": {
      "byteLimit": 2048000,
      "rowLimit": 10000
     },
     "inputWidgets": {},
     "nuid": "269e5249-1d9a-4625-a168-6ea15a490232",
     "showTitle": false,
     "tableResultSettingsMap": {},
     "title": ""
    }
   },
   "outputs": [],
   "source": [
    "spark.sql(f\"\"\"\n",
    "CREATE OR REPLACE VIEW {catalog_name}.{gold_schema_name}.{BEST_CUSTOMERS_TARGET_TABLE} AS \n",
    "SELECT \n",
    "    b.event_year\n",
    "    ,b.event_month\n",
    "    ,b.customer\n",
    "    ,sum(b.quantity_products) as total_products_bought\n",
    "    ,DENSE_RANK() OVER (PARTITION BY b.event_year,b.event_month ORDER BY sum(b.quantity_products) DESC) as best_customer_rank\n",
    "    ,ROUND(\n",
    "        SUM(b.quantity_products) * 100.0 / \n",
    "        SUM(SUM(b.quantity_products)) OVER (PARTITION BY b.event_year,b.event_month), \n",
    "        2\n",
    "    ) AS percent_total_products_bought\n",
    "    ,\n",
    "    SUM(b.quantity_products) - LAG(SUM(b.quantity_products),1,SUM(b.quantity_products)) OVER (PARTITION BY b.customer ORDER BY b.event_year,b.event_month) AS difference_in_products_bought_from_last_month\n",
    "FROM\n",
    "    {catalog_name}.{gold_schema_name}.{BASE_DF_TARGET_TABLE} b\n",
    "GROUP BY\n",
    "    b.event_year,b.event_month,b.customer\n",
    "\"\"\"\n",
    ")"
   ]
  },
  {
   "cell_type": "markdown",
   "metadata": {
    "application/vnd.databricks.v1+cell": {
     "cellMetadata": {},
     "inputWidgets": {},
     "nuid": "af2ff660-db13-4797-b549-0246759453c4",
     "showTitle": false,
     "tableResultSettingsMap": {},
     "title": ""
    }
   },
   "source": [
    "## Best employee per year-month"
   ]
  },
  {
   "cell_type": "code",
   "execution_count": 0,
   "metadata": {
    "application/vnd.databricks.v1+cell": {
     "cellMetadata": {
      "byteLimit": 2048000,
      "rowLimit": 10000
     },
     "inputWidgets": {},
     "nuid": "e41f5d47-443e-45a6-8ed8-a52b57fa3071",
     "showTitle": false,
     "tableResultSettingsMap": {},
     "title": ""
    }
   },
   "outputs": [],
   "source": [
    "spark.sql(f\"\"\"\n",
    "CREATE OR REPLACE VIEW {catalog_name}.{gold_schema_name}.{BEST_EMPLOYEES_TARGET_TABLE} AS\n",
    "SELECT \n",
    "    b.event_year\n",
    "    ,b.event_month\n",
    "    ,b.employee\n",
    "    ,sum(b.quantity_products) as total_products_sold\n",
    "    ,DENSE_RANK() OVER (PARTITION BY b.event_year,b.event_month ORDER BY sum(b.quantity_products) DESC) as best_employee_rank\n",
    "    ,ROUND(\n",
    "        SUM(b.quantity_products) * 100.0 / \n",
    "        SUM(SUM(b.quantity_products)) OVER (PARTITION BY b.event_year,b.event_month), \n",
    "        2\n",
    "    ) AS percent_total_products_sold\n",
    "    ,\n",
    "    SUM(b.quantity_products) - LAG(SUM(b.quantity_products),1,SUM(b.quantity_products)) OVER (PARTITION BY b.employee ORDER BY b.event_year,b.event_month) AS difference_in_products_sold_from_last_month\n",
    "FROM\n",
    "    {catalog_name}.{gold_schema_name}.{BASE_DF_TARGET_TABLE} b\n",
    "GROUP BY\n",
    "    b.event_year,b.event_month,b.employee\n",
    "\"\"\"\n",
    ")"
   ]
  },
  {
   "cell_type": "markdown",
   "metadata": {
    "application/vnd.databricks.v1+cell": {
     "cellMetadata": {},
     "inputWidgets": {},
     "nuid": "14dbde33-c761-4738-8c9d-3ea7ffbcb81d",
     "showTitle": false,
     "tableResultSettingsMap": {},
     "title": ""
    }
   },
   "source": [
    "# Write streaming"
   ]
  },
  {
   "cell_type": "markdown",
   "metadata": {
    "application/vnd.databricks.v1+cell": {
     "cellMetadata": {},
     "inputWidgets": {},
     "nuid": "1d953316-b384-438d-96e1-1356b7f8e750",
     "showTitle": false,
     "tableResultSettingsMap": {},
     "title": ""
    }
   },
   "source": [
    "## Base query"
   ]
  },
  {
   "cell_type": "code",
   "execution_count": 0,
   "metadata": {
    "application/vnd.databricks.v1+cell": {
     "cellMetadata": {
      "byteLimit": 2048000,
      "rowLimit": 10000
     },
     "inputWidgets": {},
     "nuid": "6ec80b77-fdeb-4a64-9810-252eb7032b6a",
     "showTitle": false,
     "tableResultSettingsMap": {},
     "title": ""
    }
   },
   "outputs": [],
   "source": [
    "# (base_df.writeStream\n",
    "#     .format(\"delta\")\n",
    "#     .outputMode(\"Complete\")\n",
    "#     .partitionBy(\"event_date\")\n",
    "#     .option(\"checkpointLocation\", gold_checkpoint_path)\n",
    "#     .trigger(availableNow=True)\n",
    "#     .table(f\"{catalog_name}.{gold_schema_name}.gld_sales\")\n",
    "#     .awaitTermination()\n",
    "# )\n",
    "\n",
    "#base_df.write.format(\"delta\").mode(\"overwrite\").saveAsTable(f\"{catalog_name}.{gold_schema_name}.{BASE_DF_TARGET_TABLE}\")\n",
    "\n",
    "\n"
   ]
  },
  {
   "cell_type": "markdown",
   "metadata": {
    "application/vnd.databricks.v1+cell": {
     "cellMetadata": {},
     "inputWidgets": {},
     "nuid": "dbf6f30e-8399-4cb5-a5a0-b318d306e57b",
     "showTitle": false,
     "tableResultSettingsMap": {},
     "title": ""
    }
   },
   "source": [
    "## Total date's sales per district"
   ]
  },
  {
   "cell_type": "code",
   "execution_count": 0,
   "metadata": {
    "application/vnd.databricks.v1+cell": {
     "cellMetadata": {
      "byteLimit": 2048000,
      "rowLimit": 10000
     },
     "inputWidgets": {},
     "nuid": "f44ed34a-13e2-4323-9474-7ea53bd67b0c",
     "showTitle": false,
     "tableResultSettingsMap": {},
     "title": ""
    }
   },
   "outputs": [],
   "source": [
    "# (df_sales_per_district.writeStream\n",
    "#     .format(\"delta\")\n",
    "#     .outputMode(\"complete\")\n",
    "#     .partitionBy(\"event_date\",\"district\")\n",
    "#     .option(\"checkpointLocation\", gold_checkpoint_path)\n",
    "#     .trigger(availableNow=True)\n",
    "#     .table(f\"{catalog_name}.{gold_schema_name}.{SALES_PER_DISTRICT_TARGET_TABLE}\")\n",
    "#     .awaitTermination()\n",
    "# )\n",
    "\n",
    "#df_sales_per_district.write.format(\"delta\").mode(\"overwrite\").saveAsTable(f\"{catalog_name}.{gold_schema_name}.{SALES_PER_DISTRICT_TARGET_TABLE}\")"
   ]
  },
  {
   "cell_type": "markdown",
   "metadata": {
    "application/vnd.databricks.v1+cell": {
     "cellMetadata": {},
     "inputWidgets": {},
     "nuid": "b61f2d4c-9afe-44cd-8156-53ef21a50c90",
     "showTitle": false,
     "tableResultSettingsMap": {},
     "title": ""
    }
   },
   "source": [
    "## Total dates's sales per employees"
   ]
  },
  {
   "cell_type": "code",
   "execution_count": 0,
   "metadata": {
    "application/vnd.databricks.v1+cell": {
     "cellMetadata": {
      "byteLimit": 2048000,
      "rowLimit": 10000
     },
     "inputWidgets": {},
     "nuid": "1116b401-019a-4c14-affc-76880f553768",
     "showTitle": false,
     "tableResultSettingsMap": {},
     "title": ""
    }
   },
   "outputs": [],
   "source": [
    "# (\n",
    "# df_sales_per_employee.writeStream\n",
    "#     .format(\"delta\")\n",
    "#     .outputMode(\"Complete\")\n",
    "#     .partitionBy(\"employee\",\"event_date\")\n",
    "#     .option(\"checkpointLocation\", gold_checkpoint_path)\n",
    "#     .trigger(availableNow=True)\n",
    "#     .table(f\"{catalog_name}.{gold_schema_name}.gld_sales_employees\")\n",
    "#     .awaitTermination()\n",
    "# )\n",
    "\n",
    "#df_sales_per_employee.write.format(\"delta\").mode(\"overwrite\").saveAsTable(f\"{catalog_name}.{gold_schema_name}.{SALES_PER_EMPLOYEE_TARGET_TABLE}\")"
   ]
  },
  {
   "cell_type": "markdown",
   "metadata": {
    "application/vnd.databricks.v1+cell": {
     "cellMetadata": {},
     "inputWidgets": {},
     "nuid": "2a7d0084-4486-4128-9006-fbe8a29dfcfe",
     "showTitle": false,
     "tableResultSettingsMap": {},
     "title": ""
    }
   },
   "source": [
    "## Unique customers per year/month and district"
   ]
  },
  {
   "cell_type": "code",
   "execution_count": 0,
   "metadata": {
    "application/vnd.databricks.v1+cell": {
     "cellMetadata": {
      "byteLimit": 2048000,
      "rowLimit": 10000
     },
     "inputWidgets": {},
     "nuid": "334abe09-3473-40b5-9b9e-5884114ac906",
     "showTitle": false,
     "tableResultSettingsMap": {},
     "title": ""
    }
   },
   "outputs": [],
   "source": [
    "# (df_customers_per_district.writeStream\n",
    "#     .format(\"delta\")\n",
    "#     .outputMode(\"append\")\n",
    "#     .partitionBy(\"event_year\", \"event_month\", \"district\")\n",
    "#     .option(\"checkpointLocation\", gold_checkpoint_path)\n",
    "#     .trigger(availableNow=True)\n",
    "#     .table(f\"{catalog_name}.{gold_schema_name}.{CUSTOMERS_PER_DISTRICT_TARGET_TABLE}\")\n",
    "#     .awaitTermination()\n",
    "# )\n",
    "\n",
    "\n",
    "#df_customers_per_district.write.format(\"delta\").mode(\"overwrite\").saveAsTable(f\"{catalog_name}.{gold_schema_name}.{CUSTOMERS_PER_DISTRICT_TARGET_TABLE}\")"
   ]
  },
  {
   "cell_type": "markdown",
   "metadata": {
    "application/vnd.databricks.v1+cell": {
     "cellMetadata": {},
     "inputWidgets": {},
     "nuid": "ec741a2a-2517-440a-99c9-75517e5ad5eb",
     "showTitle": false,
     "tableResultSettingsMap": {},
     "title": ""
    }
   },
   "source": [
    "## Best customers per year-month"
   ]
  },
  {
   "cell_type": "code",
   "execution_count": 0,
   "metadata": {
    "application/vnd.databricks.v1+cell": {
     "cellMetadata": {
      "byteLimit": 2048000,
      "rowLimit": 10000
     },
     "inputWidgets": {},
     "nuid": "c999c44c-836a-46b8-b852-e2211fc4f4fc",
     "showTitle": false,
     "tableResultSettingsMap": {},
     "title": ""
    }
   },
   "outputs": [],
   "source": [
    "# (df_best_customer.writeStream\n",
    "#     .format(\"delta\")\n",
    "#     .outputMode(\"append\")\n",
    "#     .partitionBy(\"event_year\",\"event_month\",\"customer\")\n",
    "#     .option(\"checkpointLocation\", gold_checkpoint_path)\n",
    "#     .trigger(availableNow=True)\n",
    "#     .table(f\"{catalog_name}.{gold_schema_name}.{BEST_CUSTOMERS_TARGET_TABLE}\")\n",
    "#     .awaitTermination()\n",
    "# )\n",
    "\n",
    "#df_best_customer.write.format(\"delta\").mode(\"overwrite\").saveAsTable(f\"{catalog_name}.{gold_schema_name}.{BEST_CUSTOMERS_TARGET_TABLE}\")"
   ]
  },
  {
   "cell_type": "markdown",
   "metadata": {
    "application/vnd.databricks.v1+cell": {
     "cellMetadata": {},
     "inputWidgets": {},
     "nuid": "38c378b5-626a-46a6-aa84-7521902e7146",
     "showTitle": false,
     "tableResultSettingsMap": {},
     "title": ""
    }
   },
   "source": [
    "## Best employee per year-month"
   ]
  },
  {
   "cell_type": "code",
   "execution_count": 0,
   "metadata": {
    "application/vnd.databricks.v1+cell": {
     "cellMetadata": {
      "byteLimit": 2048000,
      "rowLimit": 10000
     },
     "inputWidgets": {},
     "nuid": "0a50a681-8590-4945-be9a-78fd72cebcb3",
     "showTitle": false,
     "tableResultSettingsMap": {},
     "title": ""
    }
   },
   "outputs": [],
   "source": [
    "# (df_best_employee.writeStream\n",
    "#     .format(\"delta\")\n",
    "#     .outputMode(\"append\")\n",
    "#     .partitionBy(\"event_year\",\"event_month\",\"employee\")\n",
    "#     .option(\"checkpointLocation\", gold_checkpoint_path)\n",
    "#     .trigger(availableNow=True)\n",
    "#     .table(f\"{catalog_name}.{gold_schema_name}.{BEST_EMPLOYEES_TARGET_TABLE}\")\n",
    "#     .awaitTermination()\n",
    "# )\n",
    "\n",
    "#df_best_employee.write.format(\"delta\").mode(\"overwrite\").saveAsTable(f\"{catalog_name}.{gold_schema_name}.{BEST_EMPLOYEES_TARGET_TABLE}\")"
   ]
  }
 ],
 "metadata": {
  "application/vnd.databricks.v1+notebook": {
   "computePreferences": null,
   "dashboards": [],
   "environmentMetadata": {
    "base_environment": "",
    "environment_version": "2"
   },
   "inputWidgetPreferences": null,
   "language": "python",
   "notebookMetadata": {
    "mostRecentlyExecutedCommandWithImplicitDF": {
     "commandId": -1,
     "dataframes": [
      "_sqldf"
     ]
    },
    "pythonIndentUnit": 4
   },
   "notebookName": "gld_sales",
   "widgets": {}
  },
  "language_info": {
   "name": "python"
  }
 },
 "nbformat": 4,
 "nbformat_minor": 0
}
