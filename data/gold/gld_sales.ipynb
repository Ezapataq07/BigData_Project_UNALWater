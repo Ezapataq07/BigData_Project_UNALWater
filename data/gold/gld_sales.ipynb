{
 "cells": [
  {
   "cell_type": "code",
   "execution_count": 0,
   "metadata": {
    "application/vnd.databricks.v1+cell": {
     "cellMetadata": {
      "byteLimit": 2048000,
      "rowLimit": 10000
     },
     "inputWidgets": {},
     "nuid": "1aa8511a-ae54-40ab-980b-31d8131a9f1b",
     "showTitle": false,
     "tableResultSettingsMap": {},
     "title": ""
    }
   },
   "outputs": [],
   "source": [
    "%run ../../config/variables"
   ]
  },
  {
   "cell_type": "code",
   "execution_count": 0,
   "metadata": {
    "application/vnd.databricks.v1+cell": {
     "cellMetadata": {
      "byteLimit": 2048000,
      "rowLimit": 10000
     },
     "inputWidgets": {},
     "nuid": "af1a0f45-d203-4dea-a59b-6893de8ede95",
     "showTitle": false,
     "tableResultSettingsMap": {},
     "title": ""
    }
   },
   "outputs": [],
   "source": [
    "ORIGIN_TABLE_SALES=\"slv_sales\"\n",
    "ORIGIN_TABLE_CUSTOMERS=\"slv_customers\"\n",
    "ORIGIN_TABLE_EMPLOYEES=\"slv_employees\"\n",
    "TARGET_TABLE=\"gld_sales\""
   ]
  },
  {
   "cell_type": "markdown",
   "metadata": {
    "application/vnd.databricks.v1+cell": {
     "cellMetadata": {
      "byteLimit": 2048000,
      "rowLimit": 10000
     },
     "inputWidgets": {},
     "nuid": "466cb516-964e-41a6-991e-af1eea3f165a",
     "showTitle": false,
     "tableResultSettingsMap": {},
     "title": ""
    }
   },
   "source": [
    "# Read Streaming"
   ]
  },
  {
   "cell_type": "markdown",
   "metadata": {
    "application/vnd.databricks.v1+cell": {
     "cellMetadata": {
      "byteLimit": 2048000,
      "rowLimit": 10000
     },
     "inputWidgets": {},
     "nuid": "bb07064b-bd43-4b48-8fde-364b9371b65f",
     "showTitle": false,
     "tableResultSettingsMap": {},
     "title": ""
    }
   },
   "source": [
    "### Load Dimension Tables"
   ]
  },
  {
   "cell_type": "code",
   "execution_count": 0,
   "metadata": {
    "application/vnd.databricks.v1+cell": {
     "cellMetadata": {
      "byteLimit": 2048000,
      "rowLimit": 10000
     },
     "inputWidgets": {},
     "nuid": "4d5f5056-713d-430d-9284-2ee237e18b8e",
     "showTitle": false,
     "tableResultSettingsMap": {},
     "title": ""
    }
   },
   "outputs": [],
   "source": [
    "df_customers=spark.read.table(f\"{catalog_name}.{silver_schema_name}.{ORIGIN_TABLE_CUSTOMERS}\")\n",
    "df_customers=df_customers.select([\"customer_id\",\"name\"]).withColumnRenamed(\"name\", \"customer\")\n",
    "\n",
    "df_employees=spark.read.table(f\"{catalog_name}.{silver_schema_name}.{ORIGIN_TABLE_EMPLOYEES}\")\n",
    "df_employees=df_employees.select([\"employee_id\",\"name\"]).withColumnRenamed(\"name\", \"employee\")"
   ]
  },
  {
   "cell_type": "markdown",
   "metadata": {
    "application/vnd.databricks.v1+cell": {
     "cellMetadata": {
      "byteLimit": 2048000,
      "rowLimit": 10000
     },
     "inputWidgets": {},
     "nuid": "aaf056a1-0766-4d80-b926-7a09e97f78aa",
     "showTitle": false,
     "tableResultSettingsMap": {},
     "title": ""
    }
   },
   "source": [
    "### Read Streaming"
   ]
  },
  {
   "cell_type": "code",
   "execution_count": 0,
   "metadata": {
    "application/vnd.databricks.v1+cell": {
     "cellMetadata": {
      "byteLimit": 2048000,
      "rowLimit": 10000
     },
     "inputWidgets": {},
     "nuid": "4d3de749-b98a-479e-bc8a-9608e7e44df1",
     "showTitle": false,
     "tableResultSettingsMap": {},
     "title": ""
    }
   },
   "outputs": [],
   "source": [
    "df_sales = spark.readStream.format('delta').option(\"maxFilesPerTrigger\", 10).table(f\"{catalog_name}.{silver_schema_name}.{ORIGIN_TABLE_SALES}\")"
   ]
  },
  {
   "cell_type": "markdown",
   "metadata": {
    "application/vnd.databricks.v1+cell": {
     "cellMetadata": {
      "byteLimit": 2048000,
      "rowLimit": 10000
     },
     "inputWidgets": {},
     "nuid": "67addbc1-cea3-400e-9f2e-c64d43288bc3",
     "showTitle": false,
     "tableResultSettingsMap": {},
     "title": ""
    }
   },
   "source": [
    "### Define Final DataFrame"
   ]
  },
  {
   "cell_type": "code",
   "execution_count": 0,
   "metadata": {
    "application/vnd.databricks.v1+cell": {
     "cellMetadata": {
      "byteLimit": 2048000,
      "rowLimit": 10000
     },
     "inputWidgets": {},
     "nuid": "57baa2bf-8f7c-4273-b714-c5a97e7b7856",
     "showTitle": false,
     "tableResultSettingsMap": {},
     "title": ""
    }
   },
   "outputs": [],
   "source": [
    "from pyspark.sql.functions import col\n",
    "\n",
    "df=(df_sales.join(df_customers, on=\"customer_id\", how=\"inner\")\n",
    "    .join(df_employees, on=\"employee_id\", how=\"inner\")\n",
    ")\n",
    "df=df.select(\n",
    "    \"order_id\"\n",
    "    ,\"employee\"\n",
    "    ,\"customer\"\n",
    "    ,\"latitude\"\n",
    "    ,\"longitude\"\n",
    "    ,\"district\"\n",
    "    ,\"quantity_products\"\n",
    "    ,\"partition_date\"\n",
    "    ,\"event_hour\"\n",
    "    ,\"event_day\"\n",
    "    ,\"event_month\"\n",
    "    ,\"event_year\"\n",
    "    ,col(\"event_date\").cast(\"date\")\n",
    ")"
   ]
  },
  {
   "cell_type": "markdown",
   "metadata": {
    "application/vnd.databricks.v1+cell": {
     "cellMetadata": {
      "byteLimit": 2048000,
      "rowLimit": 10000
     },
     "inputWidgets": {},
     "nuid": "14dbde33-c761-4738-8c9d-3ea7ffbcb81d",
     "showTitle": false,
     "tableResultSettingsMap": {},
     "title": ""
    }
   },
   "source": [
    "# Write streaming"
   ]
  },
  {
   "cell_type": "code",
   "execution_count": 0,
   "metadata": {
    "application/vnd.databricks.v1+cell": {
     "cellMetadata": {
      "byteLimit": 2048000,
      "rowLimit": 10000
     },
     "inputWidgets": {},
     "nuid": "6ec80b77-fdeb-4a64-9810-252eb7032b6a",
     "showTitle": false,
     "tableResultSettingsMap": {},
     "title": ""
    }
   },
   "outputs": [],
   "source": [
    "(df.writeStream\n",
    "    .format(\"delta\")\n",
    "    .outputMode(\"append\")\n",
    "    .option(\"checkpointLocation\", gold_checkpoint_path)\n",
    "    .trigger(availableNow=True)\n",
    "    .table(f\"{catalog_name}.{gold_schema_name}.{TARGET_TABLE}\")\n",
    "    .awaitTermination()\n",
    ")"
   ]
  }
 ],
 "metadata": {
  "application/vnd.databricks.v1+notebook": {
   "computePreferences": null,
   "dashboards": [],
   "environmentMetadata": {
    "base_environment": "",
    "environment_version": "2"
   },
   "inputWidgetPreferences": null,
   "language": "python",
   "notebookMetadata": {
    "mostRecentlyExecutedCommandWithImplicitDF": {
     "commandId": -1,
     "dataframes": [
      "_sqldf"
     ]
    },
    "pythonIndentUnit": 4
   },
   "notebookName": "gld_sales",
   "widgets": {}
  },
  "language_info": {
   "name": "python"
  }
 },
 "nbformat": 4,
 "nbformat_minor": 0
}
