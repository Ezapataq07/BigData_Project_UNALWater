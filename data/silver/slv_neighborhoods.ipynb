{
 "cells": [
  {
   "cell_type": "markdown",
   "metadata": {
    "application/vnd.databricks.v1+cell": {
     "cellMetadata": {
      "byteLimit": 2048000,
      "rowLimit": 10000
     },
     "inputWidgets": {},
     "nuid": "10840348-070e-44d6-b532-fe221467465d",
     "showTitle": false,
     "tableResultSettingsMap": {},
     "title": ""
    }
   },
   "source": [
    "# Notebook to cleansed bronze.neighborhoods into silver.neighborhoods"
   ]
  },
  {
   "cell_type": "markdown",
   "metadata": {
    "application/vnd.databricks.v1+cell": {
     "cellMetadata": {
      "byteLimit": 2048000,
      "rowLimit": 10000
     },
     "inputWidgets": {},
     "nuid": "39c8a82d-de2e-41b1-bb5e-f605bf4acead",
     "showTitle": false,
     "tableResultSettingsMap": {},
     "title": ""
    }
   },
   "source": [
    "Define constant variables"
   ]
  },
  {
   "cell_type": "code",
   "execution_count": 0,
   "metadata": {
    "application/vnd.databricks.v1+cell": {
     "cellMetadata": {
      "byteLimit": 2048000,
      "rowLimit": 10000
     },
     "inputWidgets": {},
     "nuid": "3f41b765-6b9b-4d49-9742-8deb5ff154ed",
     "showTitle": false,
     "tableResultSettingsMap": {},
     "title": ""
    }
   },
   "outputs": [],
   "source": [
    "from pyspark.sql.functions import col, trim, udf, from_json, when"
   ]
  },
  {
   "cell_type": "code",
   "execution_count": 0,
   "metadata": {
    "application/vnd.databricks.v1+cell": {
     "cellMetadata": {
      "byteLimit": 2048000,
      "rowLimit": 10000
     },
     "inputWidgets": {},
     "nuid": "da03beb0-117a-47bf-b08c-4080e4cb3d87",
     "showTitle": false,
     "tableResultSettingsMap": {},
     "title": ""
    }
   },
   "outputs": [],
   "source": [
    "%run ../../config/utils"
   ]
  },
  {
   "cell_type": "code",
   "execution_count": 0,
   "metadata": {
    "application/vnd.databricks.v1+cell": {
     "cellMetadata": {
      "byteLimit": 2048000,
      "rowLimit": 10000
     },
     "inputWidgets": {},
     "nuid": "dbb7a622-8395-4c65-b922-df545e4dc824",
     "showTitle": false,
     "tableResultSettingsMap": {},
     "title": ""
    }
   },
   "outputs": [],
   "source": [
    "ORIGIN_TABLE=\"brz_neighborhoods\"\n",
    "TARGET_TABLE=\"slv_neighborhoods\""
   ]
  },
  {
   "cell_type": "markdown",
   "metadata": {
    "application/vnd.databricks.v1+cell": {
     "cellMetadata": {
      "byteLimit": 2048000,
      "rowLimit": 10000
     },
     "inputWidgets": {},
     "nuid": "dc7e9b79-e0a7-4f5b-879d-72c1eaeaf2b3",
     "showTitle": false,
     "tableResultSettingsMap": {},
     "title": ""
    }
   },
   "source": [
    "###  Load data from bronze.neighborhoods "
   ]
  },
  {
   "cell_type": "code",
   "execution_count": 0,
   "metadata": {
    "application/vnd.databricks.v1+cell": {
     "cellMetadata": {
      "byteLimit": 2048000,
      "rowLimit": 10000
     },
     "inputWidgets": {},
     "nuid": "41b2e722-a344-41f3-ae36-854244d2c8db",
     "showTitle": false,
     "tableResultSettingsMap": {},
     "title": ""
    }
   },
   "outputs": [],
   "source": [
    "bronze_df = spark.read.table(f\"{catalog_name}.{bronze_schema_name}.{ORIGIN_TABLE}\")"
   ]
  },
  {
   "cell_type": "markdown",
   "metadata": {
    "application/vnd.databricks.v1+cell": {
     "cellMetadata": {
      "byteLimit": 2048000,
      "rowLimit": 10000
     },
     "inputWidgets": {},
     "nuid": "527a3f4e-b1bc-4980-bc14-2bedfc8723f0",
     "showTitle": false,
     "tableResultSettingsMap": {},
     "title": ""
    }
   },
   "source": [
    "### Transform and check quality "
   ]
  },
  {
   "cell_type": "code",
   "execution_count": 0,
   "metadata": {
    "application/vnd.databricks.v1+cell": {
     "cellMetadata": {
      "byteLimit": 2048000,
      "rowLimit": 10000
     },
     "inputWidgets": {},
     "nuid": "d1e363a0-96fb-4d65-8e82-e65e332e8217",
     "showTitle": false,
     "tableResultSettingsMap": {},
     "title": ""
    }
   },
   "outputs": [],
   "source": [
    "# Apply the UDF to the 'geometry' column and create a new 'geojson' column\n",
    "bronze_df=bronze_df.withColumn(\"geojson\", wkb_to_geojson_udf(col(\"geometry\")))\n",
    "bronze_df=bronze_df.drop(\"geometry\")"
   ]
  },
  {
   "cell_type": "code",
   "execution_count": 0,
   "metadata": {
    "application/vnd.databricks.v1+cell": {
     "cellMetadata": {
      "byteLimit": 2048000,
      "rowLimit": 10000
     },
     "inputWidgets": {},
     "nuid": "f39f7a59-45a3-4289-83c9-111727431a48",
     "showTitle": false,
     "tableResultSettingsMap": {},
     "title": ""
    }
   },
   "outputs": [],
   "source": [
    "renamed_colums={\n",
    "                    \"OBJECTID\":\"object_id\",\n",
    "                    \"CODIGO\":\"code\",\n",
    "                    \"NOMBRE\":\"name\",\n",
    "                    \"IDENTIFICACION\":\"identification\",\n",
    "                    \"LIMITEMUNICIPIOID\":\"limit_municipality_id\",\n",
    "                    \"SUBTIPO_COMUNACORREGIMIENTO\":\"sub_type_community_district\",\n",
    "                    \"LINK_DOCUMENTO\":\"link_document\",\n",
    "                    \"SHAPEAREA\": \"shape_area\",\n",
    "                    \"SHAPELEN\": \"shape_len\"\n",
    "                }\n",
    "\n",
    "bronze_df = bronze_df.withColumnsRenamed(renamed_colums)"
   ]
  },
  {
   "cell_type": "markdown",
   "metadata": {
    "application/vnd.databricks.v1+cell": {
     "cellMetadata": {
      "byteLimit": 2048000,
      "rowLimit": 10000
     },
     "inputWidgets": {},
     "nuid": "576c2e74-616b-4ca5-a608-ef71fc68dc4c",
     "showTitle": false,
     "tableResultSettingsMap": {},
     "title": ""
    }
   },
   "source": [
    "Base on the following image, the nulls records in `bronze_df`, mark in red squares, are related to *Santa Elena (object_id=340)* and *San Cristobál (object_id=342)* districts. Thats the reason why those null records will be mapped to these respectively districts.\n",
    "![Poligono](/Volumes/workspace/default/staging/PoligonosMedellin_Nulls.png)"
   ]
  },
  {
   "cell_type": "code",
   "execution_count": 0,
   "metadata": {
    "application/vnd.databricks.v1+cell": {
     "cellMetadata": {
      "byteLimit": 2048000,
      "rowLimit": 10000
     },
     "inputWidgets": {},
     "nuid": "52cd4fe8-b2be-45b0-99a5-c5f8df0b299b",
     "showTitle": false,
     "tableResultSettingsMap": {},
     "title": ""
    }
   },
   "outputs": [],
   "source": [
    "bronze_df = substitute_fields(bronze_df, 339, 340)\n",
    "bronze_df = substitute_fields(bronze_df, 337, 342)\n",
    "bronze_df.createOrReplaceTempView(\"neighborhoods\")"
   ]
  },
  {
   "cell_type": "markdown",
   "metadata": {
    "application/vnd.databricks.v1+cell": {
     "cellMetadata": {
      "byteLimit": 2048000,
      "rowLimit": 10000
     },
     "inputWidgets": {},
     "nuid": "38202367-8ee8-4a9f-8bae-c30979b285c6",
     "showTitle": false,
     "tableResultSettingsMap": {},
     "title": ""
    }
   },
   "source": [
    "### Write into silver.neighborhoods using MERGE"
   ]
  },
  {
   "cell_type": "code",
   "execution_count": 0,
   "metadata": {
    "application/vnd.databricks.v1+cell": {
     "cellMetadata": {
      "byteLimit": 2048000,
      "rowLimit": 10000
     },
     "inputWidgets": {},
     "nuid": "07340606-7a64-4a92-9ea5-868993bd0dd6",
     "showTitle": false,
     "tableResultSettingsMap": {},
     "title": ""
    }
   },
   "outputs": [],
   "source": [
    "spark.sql(f\"\"\"\n",
    "  MERGE INTO {catalog_name}.{silver_schema_name}.{TARGET_TABLE} AS target\n",
    "  USING neighborhoods AS source\n",
    "  ON target.object_id = source.object_id\n",
    "  WHEN MATCHED AND (\n",
    "      target.code                       IS DISTINCT FROM source.code OR\n",
    "      target.name                       IS DISTINCT FROM source.name OR\n",
    "      target.identification             IS DISTINCT FROM source.identification OR\n",
    "      target.limit_municipality_id      IS DISTINCT FROM source.limit_municipality_id OR\n",
    "      target.subtype_community_district IS DISTINCT FROM source.sub_type_community_district OR\n",
    "      target.link_document              IS DISTINCT FROM source.link_document OR\n",
    "      target.shape_area                 IS DISTINCT FROM source.shape_area OR\n",
    "      target.shape_len                  IS DISTINCT FROM source.shape_len OR\n",
    "      target.geojson                    IS DISTINCT FROM source.geojson\n",
    "  ) THEN\n",
    "    UPDATE SET\n",
    "      target.code                       = source.code,\n",
    "      target.name                       = source.name,\n",
    "      target.identification             = source.identification,\n",
    "      target.limit_municipality_id      = source.limit_municipality_id,\n",
    "      target.subtype_community_district = source.sub_type_community_district,\n",
    "      target.link_document              = source.link_document,\n",
    "      target.shape_area                 = source.shape_area,\n",
    "      target.shape_len                  = source.shape_len,\n",
    "      target.geojson                    = source.geojson\n",
    "  WHEN NOT MATCHED THEN\n",
    "    INSERT (\n",
    "      object_id,\n",
    "      code,\n",
    "      name,\n",
    "      identification,\n",
    "      limit_municipality_id,\n",
    "      subtype_community_district,\n",
    "      link_document,\n",
    "      shape_area,\n",
    "      shape_len,\n",
    "      geojson\n",
    "    )\n",
    "    VALUES (\n",
    "      source.object_id,\n",
    "      source.code,\n",
    "      source.name,\n",
    "      source.identification,\n",
    "      source.limit_municipality_id,\n",
    "      source.sub_type_community_district,\n",
    "      source.link_document,\n",
    "      source.shape_area,\n",
    "      source.shape_len,\n",
    "      source.geojson\n",
    "    )\n",
    "\"\"\")"
   ]
  },
  {
   "cell_type": "markdown",
   "metadata": {
    "application/vnd.databricks.v1+cell": {
     "cellMetadata": {
      "byteLimit": 2048000,
      "rowLimit": 10000
     },
     "inputWidgets": {},
     "nuid": "e0b42dd7-0187-477a-8267-f60cc9d40cbe",
     "showTitle": false,
     "tableResultSettingsMap": {},
     "title": ""
    }
   },
   "source": []
  }
 ],
 "metadata": {
  "application/vnd.databricks.v1+notebook": {
   "computePreferences": {
    "hardware": {
     "accelerator": null,
     "gpuPoolId": null,
     "memory": null
    }
   },
   "dashboards": [],
   "environmentMetadata": {
    "base_environment": "",
    "dependencies": [
     "shapely==2.1.1"
    ],
    "environment_version": "2"
   },
   "inputWidgetPreferences": null,
   "language": "python",
   "notebookMetadata": {
    "pythonIndentUnit": 4
   },
   "notebookName": "slv_neighborhoods",
   "widgets": {}
  },
  "language_info": {
   "name": "python"
  }
 },
 "nbformat": 4,
 "nbformat_minor": 0
}
