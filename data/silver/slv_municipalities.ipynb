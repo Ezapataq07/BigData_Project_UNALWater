{
 "cells": [
  {
   "cell_type": "markdown",
   "metadata": {
    "application/vnd.databricks.v1+cell": {
     "cellMetadata": {
      "byteLimit": 2048000,
      "rowLimit": 10000
     },
     "inputWidgets": {},
     "nuid": "10840348-070e-44d6-b532-fe221467465d",
     "showTitle": false,
     "tableResultSettingsMap": {},
     "title": ""
    }
   },
   "source": [
    "# Notebook to cleansed bronze.municipalities into silver.municipalities"
   ]
  },
  {
   "cell_type": "markdown",
   "metadata": {
    "application/vnd.databricks.v1+cell": {
     "cellMetadata": {
      "byteLimit": 2048000,
      "rowLimit": 10000
     },
     "inputWidgets": {},
     "nuid": "39c8a82d-de2e-41b1-bb5e-f605bf4acead",
     "showTitle": false,
     "tableResultSettingsMap": {},
     "title": ""
    }
   },
   "source": [
    "Define constant variables"
   ]
  },
  {
   "cell_type": "code",
   "execution_count": 0,
   "metadata": {
    "application/vnd.databricks.v1+cell": {
     "cellMetadata": {
      "byteLimit": 2048000,
      "rowLimit": 10000
     },
     "inputWidgets": {},
     "nuid": "3f41b765-6b9b-4d49-9742-8deb5ff154ed",
     "showTitle": false,
     "tableResultSettingsMap": {},
     "title": ""
    }
   },
   "outputs": [],
   "source": [
    "from pyspark.sql.functions import col, trim, udf, from_json, when\n",
    "from pyspark.sql.types import StringType, StructType, StructField, ArrayType, DoubleType\n",
    "from shapely.wkb import loads as wkb_loads\n",
    "import json"
   ]
  },
  {
   "cell_type": "code",
   "execution_count": 0,
   "metadata": {
    "application/vnd.databricks.v1+cell": {
     "cellMetadata": {
      "byteLimit": 2048000,
      "rowLimit": 10000
     },
     "inputWidgets": {},
     "nuid": "da03beb0-117a-47bf-b08c-4080e4cb3d87",
     "showTitle": false,
     "tableResultSettingsMap": {},
     "title": ""
    }
   },
   "outputs": [],
   "source": [
    "%run ../../config/variables"
   ]
  },
  {
   "cell_type": "code",
   "execution_count": 0,
   "metadata": {
    "application/vnd.databricks.v1+cell": {
     "cellMetadata": {
      "byteLimit": 2048000,
      "rowLimit": 10000
     },
     "inputWidgets": {},
     "nuid": "dbb7a622-8395-4c65-b922-df545e4dc824",
     "showTitle": false,
     "tableResultSettingsMap": {},
     "title": ""
    }
   },
   "outputs": [],
   "source": [
    "ORIGIN_TABLE=\"brz_municipalities\"\n",
    "TARGET_TABLE=\"slv_municipalities\""
   ]
  },
  {
   "cell_type": "markdown",
   "metadata": {
    "application/vnd.databricks.v1+cell": {
     "cellMetadata": {
      "byteLimit": 2048000,
      "rowLimit": 10000
     },
     "inputWidgets": {},
     "nuid": "dc7e9b79-e0a7-4f5b-879d-72c1eaeaf2b3",
     "showTitle": false,
     "tableResultSettingsMap": {},
     "title": ""
    }
   },
   "source": [
    "###  Load data from bronze.municipalities "
   ]
  },
  {
   "cell_type": "code",
   "execution_count": 0,
   "metadata": {
    "application/vnd.databricks.v1+cell": {
     "cellMetadata": {
      "byteLimit": 2048000,
      "rowLimit": 10000
     },
     "inputWidgets": {},
     "nuid": "41b2e722-a344-41f3-ae36-854244d2c8db",
     "showTitle": false,
     "tableResultSettingsMap": {},
     "title": ""
    }
   },
   "outputs": [],
   "source": [
    "bronze_df = spark.read.table(f\"{catalog_name}.{bronze_schema_name}.{ORIGIN_TABLE}\")"
   ]
  },
  {
   "cell_type": "markdown",
   "metadata": {
    "application/vnd.databricks.v1+cell": {
     "cellMetadata": {
      "byteLimit": 2048000,
      "rowLimit": 10000
     },
     "inputWidgets": {},
     "nuid": "527a3f4e-b1bc-4980-bc14-2bedfc8723f0",
     "showTitle": false,
     "tableResultSettingsMap": {},
     "title": ""
    }
   },
   "source": [
    "### Transform and check quality "
   ]
  },
  {
   "cell_type": "code",
   "execution_count": 0,
   "metadata": {
    "application/vnd.databricks.v1+cell": {
     "cellMetadata": {
      "byteLimit": 2048000,
      "rowLimit": 10000
     },
     "inputWidgets": {},
     "nuid": "559cd6e5-3905-4842-81e1-3d2f432b591d",
     "showTitle": false,
     "tableResultSettingsMap": {},
     "title": ""
    }
   },
   "outputs": [],
   "source": [
    "def wkb_to_geojson(wkb_bytes):\n",
    "    \"\"\"\n",
    "    Converts WKB (Well-Known Binary) geometry bytes to a GeoJSON string.\n",
    "    Args:\n",
    "        wkb_bytes (bytes): The WKB geometry as bytes.\n",
    "    Returns:\n",
    "        str or None: The GeoJSON representation as a string, or None if conversion fails.\n",
    "    \"\"\"\n",
    "    try:\n",
    "        geom = wkb_loads(bytes(wkb_bytes))\n",
    "        return json.dumps(geom.__geo_interface__)\n",
    "    except Exception as e:\n",
    "        return None\n",
    "\n",
    "wkb_to_geojson_udf = udf(wkb_to_geojson, StringType())"
   ]
  },
  {
   "cell_type": "code",
   "execution_count": 0,
   "metadata": {
    "application/vnd.databricks.v1+cell": {
     "cellMetadata": {
      "byteLimit": 2048000,
      "rowLimit": 10000
     },
     "inputWidgets": {},
     "nuid": "d1e363a0-96fb-4d65-8e82-e65e332e8217",
     "showTitle": false,
     "tableResultSettingsMap": {},
     "title": ""
    }
   },
   "outputs": [],
   "source": [
    "# Apply the UDF to the 'geometry' column and create a new 'geojson' column\n",
    "bronze_df=bronze_df.withColumn(\"geojson\", wkb_to_geojson_udf(col(\"geometry\")))\n",
    "bronze_df=bronze_df.drop(\"geometry\")"
   ]
  },
  {
   "cell_type": "code",
   "execution_count": 0,
   "metadata": {
    "application/vnd.databricks.v1+cell": {
     "cellMetadata": {
      "byteLimit": 2048000,
      "rowLimit": 10000
     },
     "inputWidgets": {},
     "nuid": "f39f7a59-45a3-4289-83c9-111727431a48",
     "showTitle": false,
     "tableResultSettingsMap": {},
     "title": ""
    }
   },
   "outputs": [],
   "source": [
    "renamed_colums = {\n",
    "                    \"DPTOMPIO\":\"code\",\n",
    "                    \"DPTO_CCDGO\":\"department_code\",\n",
    "                    \"MPIO_CCDGO\":\"municipality_code\",\n",
    "                    \"MPIO_CNMBR\":\"municipality\",\n",
    "                    \"MPIO_CCNCT\":\"ccnct_code\"\n",
    "                }\n",
    "\n",
    "bronze_df = bronze_df.withColumnsRenamed(renamed_colums)\n",
    "bronze_df.createOrReplaceTempView(\"municipalities\")"
   ]
  },
  {
   "cell_type": "markdown",
   "metadata": {
    "application/vnd.databricks.v1+cell": {
     "cellMetadata": {
      "byteLimit": 2048000,
      "rowLimit": 10000
     },
     "inputWidgets": {},
     "nuid": "38202367-8ee8-4a9f-8bae-c30979b285c6",
     "showTitle": false,
     "tableResultSettingsMap": {},
     "title": ""
    }
   },
   "source": [
    "### Write into silver.municipalities using MERGE"
   ]
  },
  {
   "cell_type": "code",
   "execution_count": 0,
   "metadata": {
    "application/vnd.databricks.v1+cell": {
     "cellMetadata": {
      "byteLimit": 2048000,
      "rowLimit": 10000
     },
     "inputWidgets": {},
     "nuid": "07340606-7a64-4a92-9ea5-868993bd0dd6",
     "showTitle": false,
     "tableResultSettingsMap": {},
     "title": ""
    }
   },
   "outputs": [],
   "source": [
    "spark.sql(f\"\"\"\n",
    "  MERGE INTO {catalog_name}.{silver_schema_name}.{TARGET_TABLE} AS target\n",
    "  USING municipalities AS source\n",
    "  ON target.code = source.code\n",
    "  WHEN MATCHED AND (\n",
    "      target.department_code   <> source.department_code OR\n",
    "      target.municipality_code <> source.municipality_code OR\n",
    "      target.municipality      <> source.municipality OR\n",
    "      target.ccnct_code        <> source.ccnct_code OR\n",
    "      target.geojson           <> source.geojson\n",
    "  ) THEN\n",
    "    UPDATE SET\n",
    "      target.department_code   = source.department_code,\n",
    "      target.municipality_code = source.municipality_code,\n",
    "      target.municipality      = source.municipality,\n",
    "      target.ccnct_code        = source.ccnct_code,\n",
    "      target.geojson           = source.geojson\n",
    "  WHEN NOT MATCHED THEN\n",
    "    INSERT (\n",
    "      code,\n",
    "      department_code,\n",
    "      municipality_code,\n",
    "      municipality,\n",
    "      ccnct_code,\n",
    "      geojson\n",
    "    )\n",
    "    VALUES (\n",
    "      source.code,\n",
    "      source.department_code,\n",
    "      source.municipality_code,\n",
    "      source.municipality,\n",
    "      source.ccnct_code,\n",
    "      source.geojson\n",
    "    )\n",
    "\"\"\")"
   ]
  },
  {
   "cell_type": "markdown",
   "metadata": {
    "application/vnd.databricks.v1+cell": {
     "cellMetadata": {
      "byteLimit": 2048000,
      "rowLimit": 10000
     },
     "inputWidgets": {},
     "nuid": "e0b42dd7-0187-477a-8267-f60cc9d40cbe",
     "showTitle": false,
     "tableResultSettingsMap": {},
     "title": ""
    }
   },
   "source": []
  }
 ],
 "metadata": {
  "application/vnd.databricks.v1+notebook": {
   "computePreferences": {
    "hardware": {
     "accelerator": null,
     "gpuPoolId": null,
     "memory": null
    }
   },
   "dashboards": [],
   "environmentMetadata": {
    "base_environment": "",
    "dependencies": [
     "shapely==2.1.1"
    ],
    "environment_version": "2"
   },
   "inputWidgetPreferences": null,
   "language": "python",
   "notebookMetadata": {
    "pythonIndentUnit": 4
   },
   "notebookName": "slv_municipalities",
   "widgets": {}
  },
  "language_info": {
   "name": "python"
  }
 },
 "nbformat": 4,
 "nbformat_minor": 0
}
