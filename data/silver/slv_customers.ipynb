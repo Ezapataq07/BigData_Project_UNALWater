{
 "cells": [
  {
   "cell_type": "markdown",
   "metadata": {
    "application/vnd.databricks.v1+cell": {
     "cellMetadata": {},
     "inputWidgets": {},
     "nuid": "10840348-070e-44d6-b532-fe221467465d",
     "showTitle": false,
     "tableResultSettingsMap": {},
     "title": ""
    }
   },
   "source": [
    "# Notebook to cleansed bronze.customers into silver.customers"
   ]
  },
  {
   "cell_type": "markdown",
   "metadata": {
    "application/vnd.databricks.v1+cell": {
     "cellMetadata": {},
     "inputWidgets": {},
     "nuid": "39c8a82d-de2e-41b1-bb5e-f605bf4acead",
     "showTitle": false,
     "tableResultSettingsMap": {},
     "title": ""
    }
   },
   "source": [
    "Define constant variables"
   ]
  },
  {
   "cell_type": "code",
   "execution_count": 0,
   "metadata": {
    "application/vnd.databricks.v1+cell": {
     "cellMetadata": {
      "byteLimit": 2048000,
      "rowLimit": 10000
     },
     "inputWidgets": {},
     "nuid": "3f41b765-6b9b-4d49-9742-8deb5ff154ed",
     "showTitle": false,
     "tableResultSettingsMap": {},
     "title": ""
    }
   },
   "outputs": [],
   "source": [
    "from pyspark.sql.functions import col, trim"
   ]
  },
  {
   "cell_type": "code",
   "execution_count": 0,
   "metadata": {
    "application/vnd.databricks.v1+cell": {
     "cellMetadata": {
      "byteLimit": 2048000,
      "rowLimit": 10000
     },
     "inputWidgets": {},
     "nuid": "da03beb0-117a-47bf-b08c-4080e4cb3d87",
     "showTitle": false,
     "tableResultSettingsMap": {},
     "title": ""
    }
   },
   "outputs": [],
   "source": [
    "%run ../../config/variables"
   ]
  },
  {
   "cell_type": "code",
   "execution_count": 0,
   "metadata": {
    "application/vnd.databricks.v1+cell": {
     "cellMetadata": {
      "byteLimit": 2048000,
      "rowLimit": 10000
     },
     "inputWidgets": {},
     "nuid": "dbb7a622-8395-4c65-b922-df545e4dc824",
     "showTitle": false,
     "tableResultSettingsMap": {},
     "title": ""
    }
   },
   "outputs": [],
   "source": [
    "ORIGIN_TABLE=\"brz_customers\"\n",
    "TARGET_TABLE=\"slv_customers\""
   ]
  },
  {
   "cell_type": "markdown",
   "metadata": {
    "application/vnd.databricks.v1+cell": {
     "cellMetadata": {},
     "inputWidgets": {},
     "nuid": "dc7e9b79-e0a7-4f5b-879d-72c1eaeaf2b3",
     "showTitle": false,
     "tableResultSettingsMap": {},
     "title": ""
    }
   },
   "source": [
    "###  Load data from bronze.customers "
   ]
  },
  {
   "cell_type": "code",
   "execution_count": 0,
   "metadata": {
    "application/vnd.databricks.v1+cell": {
     "cellMetadata": {
      "byteLimit": 2048000,
      "rowLimit": 10000
     },
     "inputWidgets": {},
     "nuid": "41b2e722-a344-41f3-ae36-854244d2c8db",
     "showTitle": false,
     "tableResultSettingsMap": {},
     "title": ""
    }
   },
   "outputs": [],
   "source": [
    "bronze_df = spark.read.table(f\"{catalog_name}.{bronze_schema_name}.{ORIGIN_TABLE}\")"
   ]
  },
  {
   "cell_type": "markdown",
   "metadata": {
    "application/vnd.databricks.v1+cell": {
     "cellMetadata": {},
     "inputWidgets": {},
     "nuid": "527a3f4e-b1bc-4980-bc14-2bedfc8723f0",
     "showTitle": false,
     "tableResultSettingsMap": {},
     "title": ""
    }
   },
   "source": [
    "### Transform and check quality "
   ]
  },
  {
   "cell_type": "code",
   "execution_count": 0,
   "metadata": {
    "application/vnd.databricks.v1+cell": {
     "cellMetadata": {
      "byteLimit": 2048000,
      "rowLimit": 10000
     },
     "inputWidgets": {},
     "nuid": "1836045c-5e0b-4052-9839-8a1d3e887482",
     "showTitle": false,
     "tableResultSettingsMap": {},
     "title": ""
    }
   },
   "outputs": [],
   "source": [
    "string_cols = [f.name for f in bronze_df.schema.fields if f.dataType.simpleString() == \"string\"]\n",
    "bronze_df = bronze_df.select(\n",
    "    *[trim(col(c)).alias(c) if c in string_cols else col(c) for c in bronze_df.columns]\n",
    ")\n",
    "#QUALITY\n",
    "bronze_df = bronze_df.dropDuplicates(['customer_id'])\n",
    "\n",
    "bronze_df.createOrReplaceTempView(\"customers\")\n",
    "\n",
    "\n"
   ]
  },
  {
   "cell_type": "markdown",
   "metadata": {
    "application/vnd.databricks.v1+cell": {
     "cellMetadata": {},
     "inputWidgets": {},
     "nuid": "38202367-8ee8-4a9f-8bae-c30979b285c6",
     "showTitle": false,
     "tableResultSettingsMap": {},
     "title": ""
    }
   },
   "source": [
    "### Write into silver.customers using MERGE"
   ]
  },
  {
   "cell_type": "code",
   "execution_count": 0,
   "metadata": {
    "application/vnd.databricks.v1+cell": {
     "cellMetadata": {
      "byteLimit": 2048000,
      "rowLimit": 10000
     },
     "inputWidgets": {},
     "nuid": "07340606-7a64-4a92-9ea5-868993bd0dd6",
     "showTitle": false,
     "tableResultSettingsMap": {},
     "title": ""
    }
   },
   "outputs": [],
   "source": [
    "spark.sql(f\"\"\"\n",
    "  MERGE INTO {catalog_name}.{silver_schema_name}.{TARGET_TABLE} AS target\n",
    "  USING customers AS source\n",
    "  ON target.customer_id = source.customer_id\n",
    "  WHEN MATCHED AND (\n",
    "      target.name    IS DISTINCT FROM source.name OR\n",
    "      target.phone   IS DISTINCT FROM source.phone OR\n",
    "      target.email   IS DISTINCT FROM source.email OR\n",
    "      target.address IS DISTINCT FROM source.address\n",
    "  ) THEN\n",
    "    UPDATE SET\n",
    "      target.name    = source.name,\n",
    "      target.phone   = source.phone,\n",
    "      target.email   = source.email,\n",
    "      target.address = source.address\n",
    "  WHEN NOT MATCHED THEN\n",
    "    INSERT (\n",
    "      customer_id,\n",
    "      name,\n",
    "      phone,\n",
    "      email,\n",
    "      address\n",
    "    )\n",
    "    VALUES (\n",
    "      source.customer_id,\n",
    "      source.name,\n",
    "      source.phone,\n",
    "      source.email,\n",
    "      source.address\n",
    "    )\n",
    "\"\"\")"
   ]
  },
  {
   "cell_type": "markdown",
   "metadata": {
    "application/vnd.databricks.v1+cell": {
     "cellMetadata": {},
     "inputWidgets": {},
     "nuid": "e0b42dd7-0187-477a-8267-f60cc9d40cbe",
     "showTitle": false,
     "tableResultSettingsMap": {},
     "title": ""
    }
   },
   "source": []
  }
 ],
 "metadata": {
  "application/vnd.databricks.v1+notebook": {
   "computePreferences": null,
   "dashboards": [],
   "environmentMetadata": {
    "base_environment": "",
    "environment_version": "2"
   },
   "inputWidgetPreferences": null,
   "language": "python",
   "notebookMetadata": {
    "mostRecentlyExecutedCommandWithImplicitDF": {
     "commandId": 7643627261828069,
     "dataframes": [
      "_sqldf"
     ]
    },
    "pythonIndentUnit": 4
   },
   "notebookName": "slv_customers",
   "widgets": {}
  },
  "language_info": {
   "name": "python"
  }
 },
 "nbformat": 4,
 "nbformat_minor": 0
}
