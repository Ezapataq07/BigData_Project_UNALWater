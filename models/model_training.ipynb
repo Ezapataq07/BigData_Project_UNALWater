{
 "cells": [
  {
   "cell_type": "code",
   "execution_count": 0,
   "metadata": {
    "application/vnd.databricks.v1+cell": {
     "cellMetadata": {
      "byteLimit": 2048000,
      "rowLimit": 10000
     },
     "inputWidgets": {},
     "nuid": "2f4b491c-6c31-4a97-a45a-2ee32414c695",
     "showTitle": false,
     "tableResultSettingsMap": {},
     "title": ""
    }
   },
   "outputs": [],
   "source": [
    "from databricks.feature_engineering import FeatureEngineeringClient\n",
    "from pyspark.ml.feature import StringIndexer, OneHotEncoder, VectorAssembler\n",
    "from pyspark.ml.regression import LinearRegression, RandomForestRegressor\n",
    "from pyspark.ml import Pipeline\n",
    "from pyspark.ml.tuning import CrossValidator, ParamGridBuilder\n",
    "from pyspark.ml.evaluation import RegressionEvaluator\n",
    "from pyspark.sql.functions import col, avg, sum, expr, lpad, coalesce, lit, log, exp, dayofweek, when\n",
    "import mlflow\n",
    "from databricks.feature_engineering import FeatureEngineeringClient\n",
    "\n",
    "fe = FeatureEngineeringClient()\n",
    "mlflow.autolog(disable=True)"
   ]
  },
  {
   "cell_type": "code",
   "execution_count": 0,
   "metadata": {
    "application/vnd.databricks.v1+cell": {
     "cellMetadata": {
      "byteLimit": 2048000,
      "rowLimit": 10000
     },
     "inputWidgets": {},
     "nuid": "e808fe7f-e973-4c19-8a4c-40bcc55d1a6b",
     "showTitle": false,
     "tableResultSettingsMap": {},
     "title": ""
    }
   },
   "outputs": [],
   "source": [
    "%run ../config/variables"
   ]
  },
  {
   "cell_type": "markdown",
   "metadata": {
    "application/vnd.databricks.v1+cell": {
     "cellMetadata": {},
     "inputWidgets": {},
     "nuid": "808901f4-3d53-446a-b67c-7dc05b0082c8",
     "showTitle": false,
     "tableResultSettingsMap": {},
     "title": ""
    }
   },
   "source": [
    "## Load data"
   ]
  },
  {
   "cell_type": "code",
   "execution_count": 0,
   "metadata": {
    "application/vnd.databricks.v1+cell": {
     "cellMetadata": {
      "byteLimit": 2048000,
      "rowLimit": 10000
     },
     "inputWidgets": {},
     "nuid": "fcce7bb0-f748-425a-b7bc-6c02297f3eb1",
     "showTitle": false,
     "tableResultSettingsMap": {},
     "title": ""
    }
   },
   "outputs": [],
   "source": [
    "df_dataset = fe.read_table(name=f'{catalog_name}.{gold_schema_name}.features_demand_forecast')\n",
    "mlflow_dataset = mlflow.data.load_delta(table_name = f'{catalog_name}.{gold_schema_name}.features_demand_forecast', name = 'features_demand_forecast')"
   ]
  },
  {
   "cell_type": "code",
   "execution_count": 0,
   "metadata": {
    "application/vnd.databricks.v1+cell": {
     "cellMetadata": {
      "byteLimit": 2048000,
      "rowLimit": 10000
     },
     "inputWidgets": {},
     "nuid": "2271af5b-5d6e-4ccc-925f-f643f66e2dee",
     "showTitle": false,
     "tableResultSettingsMap": {
      "0": {
       "dataGridStateBlob": null,
       "filterBlob": "{\"version\":1,\"filterGroups\":[{\"enabled\":true,\"filterGroupId\":\"fg_c3fa55cc\",\"op\":\"OR\",\"filters\":[{\"filterId\":\"f_1d485c7b\",\"enabled\":true,\"columnId\":\"district\",\"dataType\":\"string\",\"filterType\":\"eq\",\"filterConfig\":{\"caseSensitive\":true}}],\"local\":false,\"updatedAt\":1753541559327}],\"syncTimestamp\":1753541559327}",
       "queryPlanFiltersBlob": "[]",
       "tableResultIndex": 0
      }
     },
     "title": ""
    }
   },
   "outputs": [
    {
     "output_type": "display_data",
     "data": {
      "text/plain": [
       "Databricks visualization. Run in Databricks to view."
      ]
     },
     "metadata": {
      "application/vnd.databricks.v1.subcommand+json": {
       "baseErrorDetails": null,
       "bindings": {},
       "collapsed": false,
       "command": "%python\n__backend_agg_display_orig = display\n__backend_agg_dfs = []\ndef __backend_agg_display_new(df):\n    __backend_agg_df_modules = [\"pandas.core.frame\", \"databricks.koalas.frame\", \"pyspark.sql.dataframe\", \"pyspark.pandas.frame\", \"pyspark.sql.connect.dataframe\"]\n    if (type(df).__module__ in __backend_agg_df_modules and type(df).__name__ == 'DataFrame') or isinstance(df, list):\n        __backend_agg_dfs.append(df)\n\ndisplay = __backend_agg_display_new\n\ndef __backend_agg_user_code_fn():\n    import base64\n    exec(base64.standard_b64decode(\"IyBEaXNwbGF5IGRhdGEgKG9ubHkgZm9yIGRlbW8gcHVycG9zZSBUT0RPOiByZW1vdmUgd2hlbiBkZXBseW9pbmcpCmRpc3BsYXkoZGZfZGF0YXNldCk=\").decode())\n\ntry:\n    # run user code\n    __backend_agg_user_code_fn()\n\n    #reset display function\n    display = __backend_agg_display_orig\n\n    if len(__backend_agg_dfs) > 0:\n        # create a temp view\n        if type(__backend_agg_dfs[0]).__module__ == \"databricks.koalas.frame\":\n            # koalas dataframe\n            __backend_agg_dfs[0].to_spark().createOrReplaceTempView(\"DatabricksView1a66484\")\n        elif type(__backend_agg_dfs[0]).__module__ == \"pandas.core.frame\" or isinstance(__backend_agg_dfs[0], list):\n            # pandas dataframe\n            spark.createDataFrame(__backend_agg_dfs[0]).createOrReplaceTempView(\"DatabricksView1a66484\")\n        else:\n            __backend_agg_dfs[0].createOrReplaceTempView(\"DatabricksView1a66484\")\n        #run backend agg\n        display(spark.sql(\"\"\"WITH q AS (select * from DatabricksView1a66484) SELECT `event_datetime`,SUM(`sum_quantity_products`) `column_70dd87a9192` FROM q GROUP BY `event_datetime`\"\"\"))\n    else:\n        displayHTML(\"dataframe no longer exists. If you're using dataframe.display(), use display(dataframe) instead.\")\n\n\nfinally:\n    spark.sql(\"drop view if exists DatabricksView1a66484\")\n    display = __backend_agg_display_orig\n    del __backend_agg_display_new\n    del __backend_agg_display_orig\n    del __backend_agg_dfs\n    del __backend_agg_user_code_fn\n\n",
       "commandTitle": "Visualization 1",
       "commandType": "auto",
       "commandVersion": 0,
       "commentThread": [],
       "commentsVisible": false,
       "contentSha256Hex": null,
       "customPlotOptions": {
        "redashChart": [
         {
          "key": "type",
          "value": "CHART"
         },
         {
          "key": "options",
          "value": {
           "alignYAxesAtZero": true,
           "coefficient": 1,
           "columnConfigurationMap": {
            "x": {
             "column": "event_datetime",
             "id": "column_70dd87a9189"
            },
            "y": [
             {
              "column": "sum_quantity_products",
              "id": "column_70dd87a9192",
              "transform": "SUM"
             }
            ]
           },
           "dateTimeFormat": "DD/MM/YYYY HH:mm",
           "direction": {
            "type": "counterclockwise"
           },
           "error_y": {
            "type": "data",
            "visible": true
           },
           "globalSeriesType": "line",
           "isAggregationOn": true,
           "legend": {
            "traceorder": "normal"
           },
           "missingValuesAsZero": true,
           "numberFormat": "0,0.[00000]",
           "percentFormat": "0[.]00%",
           "series": {
            "error_y": {
             "type": "data",
             "visible": true
            },
            "stacking": null
           },
           "seriesOptions": {
            "column_70dd87a9192": {
             "type": "line",
             "yAxis": 0
            }
           },
           "showDataLabels": false,
           "sizemode": "diameter",
           "sortX": true,
           "sortY": true,
           "swappedAxes": false,
           "textFormat": "",
           "useAggregationsUi": true,
           "valuesOptions": {},
           "version": 2,
           "xAxis": {
            "labels": {
             "enabled": true
            },
            "type": "-"
           },
           "yAxis": [
            {
             "type": "-"
            },
            {
             "opposite": true,
             "type": "-"
            }
           ]
          }
         }
        ]
       },
       "datasetPreviewNameToCmdIdMap": {},
       "diffDeletes": [],
       "diffInserts": [],
       "displayType": "redashChart",
       "error": null,
       "errorDetails": null,
       "errorSummary": null,
       "errorTraceType": null,
       "finishTime": 0,
       "globalVars": {},
       "guid": "",
       "height": "auto",
       "hideCommandCode": false,
       "hideCommandResult": false,
       "iPythonMetadata": null,
       "inputWidgets": {},
       "isLockedInExamMode": false,
       "latestUser": "a user",
       "latestUserId": null,
       "listResultMetadata": null,
       "metadata": {},
       "nuid": "8a687c4d-98d6-4db7-b56d-6fd35e4c18d7",
       "origId": 0,
       "parentHierarchy": [],
       "pivotAggregation": null,
       "pivotColumns": null,
       "position": 6.0,
       "resultDbfsErrorMessage": null,
       "resultDbfsStatus": "INLINED_IN_TREE",
       "results": null,
       "showCommandTitle": false,
       "startTime": 0,
       "state": "input",
       "streamStates": {},
       "subcommandOptions": {
        "queryPlan": {
         "groups": [
          {
           "column": "event_datetime",
           "type": "column"
          }
         ],
         "selects": [
          {
           "column": "event_datetime",
           "type": "column"
          },
          {
           "alias": "column_70dd87a9192",
           "args": [
            {
             "column": "sum_quantity_products",
             "type": "column"
            }
           ],
           "function": "SUM",
           "type": "function"
          }
         ]
        }
       },
       "submitTime": 0,
       "subtype": "tableResultSubCmd.visualization",
       "tableResultIndex": 0,
       "tableResultSettingsMap": {},
       "useConsistentColors": false,
       "version": "CommandV1",
       "width": "auto",
       "workflows": null,
       "xColumns": null,
       "yColumns": null
      }
     },
     "output_type": "display_data"
    }
   ],
   "source": [
    "# Display data (only for demo purpose TODO: remove when deplyoing)\n",
    "display(df_dataset)"
   ]
  },
  {
   "cell_type": "markdown",
   "metadata": {
    "application/vnd.databricks.v1+cell": {
     "cellMetadata": {},
     "inputWidgets": {},
     "nuid": "52725693-3038-495a-bc6e-6e948b9769cf",
     "showTitle": false,
     "tableResultSettingsMap": {},
     "title": ""
    }
   },
   "source": [
    "## Train - test split\n",
    "\n",
    "Se cortan los datos en 2025-07-19"
   ]
  },
  {
   "cell_type": "code",
   "execution_count": 0,
   "metadata": {
    "application/vnd.databricks.v1+cell": {
     "cellMetadata": {
      "byteLimit": 2048000,
      "rowLimit": 10000
     },
     "inputWidgets": {},
     "nuid": "509c1ffe-0468-47be-ba9e-eca55159c1e3",
     "showTitle": false,
     "tableResultSettingsMap": {},
     "title": ""
    }
   },
   "outputs": [],
   "source": [
    "cut_off_date = '2025-07-19'\n",
    "df_train = df_dataset.filter(col('event_date') < cut_off_date)\n",
    "df_test = df_dataset.filter(col('event_date') >= cut_off_date)"
   ]
  },
  {
   "cell_type": "markdown",
   "metadata": {
    "application/vnd.databricks.v1+cell": {
     "cellMetadata": {
      "byteLimit": 2048000,
      "rowLimit": 10000
     },
     "inputWidgets": {},
     "nuid": "08128959-9efb-4b93-af85-f238978f83f6",
     "showTitle": false,
     "tableResultSettingsMap": {},
     "title": ""
    }
   },
   "source": [
    "## Preprocessing"
   ]
  },
  {
   "cell_type": "code",
   "execution_count": 0,
   "metadata": {
    "application/vnd.databricks.v1+cell": {
     "cellMetadata": {
      "byteLimit": 2048000,
      "rowLimit": 10000
     },
     "inputWidgets": {},
     "nuid": "e30157c5-c62c-478c-a5e3-961fa94dd71e",
     "showTitle": false,
     "tableResultSettingsMap": {},
     "title": ""
    }
   },
   "outputs": [],
   "source": [
    "features_dict = {\n",
    "    'features1': ['district_vec', 'event_weekday', 'avg_latitude', 'avg_longitude', 'event_hour', 'prev_quantity_products'],\n",
    "    'features2': ['district_vec', 'event_weekday', 'avg_latitude', 'avg_longitude', 'event_hour', 'prev_quantity_products', 'prev_quantity_products_2'],\n",
    "    'features3': ['district_vec', 'event_weekday', 'avg_latitude', 'avg_longitude', 'event_hour', 'prev_quantity_products', 'prev_quantity_products_2', 'prev_quantity_products_3'],\n",
    "    'features4': ['district_vec', 'event_weekday', 'avg_latitude', 'avg_longitude', 'event_hour', 'prev_quantity_products', 'prev_quantity_products_2', 'prev_quantity_products_3', 'prev_quantity_products_4'],\n",
    "    'features5': ['district_vec', 'event_weekday', 'avg_latitude', 'avg_longitude', 'event_hour', 'prev_quantity_products', 'prev_quantity_products_2', 'prev_quantity_products_3', 'prev_quantity_products_4', 'prev_quantity_products_5'],\n",
    "    'features6': ['district_vec', 'event_weekday', 'avg_latitude', 'avg_longitude', 'event_hour', 'prev_quantity_products', 'prev_quantity_products_2', 'prev_quantity_products_3', 'prev_quantity_products_4', 'prev_quantity_products_5', 'prev_quantity_products_6'],\n",
    "}\n",
    "\n",
    "indexer = StringIndexer(inputCol='district', outputCol='district_index', handleInvalid='keep')\n",
    "encoder = OneHotEncoder(inputCols=['district_index','event_weekday','event_hour'], outputCols=['district_vec','event_weekday_vec','event_hour_vec'], handleInvalid='keep')\n",
    "assembler_1 = VectorAssembler(inputCols=features_dict['features1'], outputCol='features1')\n",
    "assembler_2 = VectorAssembler(inputCols=features_dict['features2'], outputCol='features2')\n",
    "assembler_3 = VectorAssembler(inputCols=features_dict['features3'], outputCol='features3')\n",
    "assembler_4 = VectorAssembler(inputCols=features_dict['features4'], outputCol='features4')\n",
    "assembler_5 = VectorAssembler(inputCols=features_dict['features5'], outputCol='features5')\n",
    "assembler_6 = VectorAssembler(inputCols=features_dict['features6'], outputCol='features6')"
   ]
  },
  {
   "cell_type": "markdown",
   "metadata": {
    "application/vnd.databricks.v1+cell": {
     "cellMetadata": {
      "byteLimit": 2048000,
      "rowLimit": 10000
     },
     "inputWidgets": {},
     "nuid": "159a54cd-9dae-41f3-ad44-dd20cfc67c04",
     "showTitle": false,
     "tableResultSettingsMap": {},
     "title": ""
    }
   },
   "source": [
    "## Model building and fitting with Cross validation"
   ]
  },
  {
   "cell_type": "code",
   "execution_count": 0,
   "metadata": {
    "application/vnd.databricks.v1+cell": {
     "cellMetadata": {
      "byteLimit": 2048000,
      "rowLimit": 10000
     },
     "inputWidgets": {},
     "nuid": "d4b2b77a-4689-4af0-9341-160acdc33ebb",
     "showTitle": false,
     "tableResultSettingsMap": {},
     "title": ""
    }
   },
   "outputs": [],
   "source": [
    "random_forest = RandomForestRegressor(featuresCol='features1', labelCol='sum_quantity_products')\n",
    "evaluator = RegressionEvaluator(labelCol='sum_quantity_products', predictionCol='prediction', metricName='rmse')\n",
    "\n",
    "pipeline = Pipeline(stages=[indexer, encoder, assembler_1, assembler_2, assembler_3, assembler_4, assembler_5, assembler_6, random_forest])\n",
    "\n",
    "params = (ParamGridBuilder()\n",
    "          .addGrid(random_forest.featuresCol, ['features1', 'features2', 'features3', 'features4', 'features5', 'features6'])\n",
    "          .addGrid(random_forest.maxDepth, [10, 20, 30])\n",
    "          .addGrid(random_forest.numTrees, [10, 20, 30])\n",
    "          .build()\n",
    "\n",
    "          )"
   ]
  },
  {
   "cell_type": "code",
   "execution_count": 0,
   "metadata": {
    "application/vnd.databricks.v1+cell": {
     "cellMetadata": {
      "byteLimit": 2048000,
      "rowLimit": 10000
     },
     "inputWidgets": {},
     "nuid": "1337d970-bbbd-4096-ac6f-5fbd1a23d85c",
     "showTitle": false,
     "tableResultSettingsMap": {},
     "title": ""
    }
   },
   "outputs": [],
   "source": [
    "from mlflow.models.signature import infer_signature\n",
    "\n",
    "experiment_name = '/Workspace/Shared/experiments/demand_forecast'\n",
    "\n",
    "mlflow.set_registry_uri('databricks-uc')\n",
    "mlflow.set_tracking_uri('databricks')\n",
    "\n",
    "if mlflow.get_experiment_by_name(experiment_name) is None:\n",
    "    mlflow.create_experiment(experiment_name)\n",
    "mlflow.set_experiment(experiment_name)\n",
    "\n",
    "with mlflow.start_run() as run:\n",
    "    mlflow.log_input(mlflow_dataset, context=\"source\")\n",
    "    mlflow.log_param('cut_off_date', cut_off_date)\n",
    "    cv = CrossValidator(estimator=pipeline, evaluator=evaluator, estimatorParamMaps=params, numFolds=3)\n",
    "    cv_model = cv.fit(df_train)\n",
    "    predictions = cv_model.transform(df_test)\n",
    "    \n",
    "    rmse_train = evaluator.evaluate(cv_model.transform(df_train))\n",
    "    rmse_test = evaluator.evaluate(predictions)\n",
    "\n",
    "    features_col = cv_model.bestModel.stages[-1].getOrDefault('featuresCol')\n",
    "    sample_df = predictions.select(features_col).limit(10).toPandas()\n",
    "    sample_pred = predictions.select('prediction').limit(10).toPandas()\n",
    "    signature = infer_signature(sample_df, sample_pred)\n",
    "    \n",
    "\n",
    "    mlflow.log_metric('rmse_train', rmse_train)\n",
    "    mlflow.log_metric('rmse_test', rmse_test)\n",
    "    mlflow.log_param('max_depth', cv_model.bestModel.stages[-1].getOrDefault('maxDepth'))\n",
    "    mlflow.log_param('num_trees', cv_model.bestModel.stages[-1].getOrDefault('numTrees'))\n",
    "    mlflow.log_param('features', features_dict[features_col])\n",
    "    mlflow.spark.log_model(cv_model.bestModel, 'model', signature=signature, registered_model_name=f'{catalog_name}.{gold_schema_name}.demand_forecast_model')\n"
   ]
  },
  {
   "cell_type": "code",
   "execution_count": 0,
   "metadata": {
    "application/vnd.databricks.v1+cell": {
     "cellMetadata": {
      "byteLimit": 2048000,
      "rowLimit": 10000
     },
     "inputWidgets": {},
     "nuid": "79d4e996-1508-47fd-99fd-518cca5753a2",
     "showTitle": false,
     "tableResultSettingsMap": {
      "0": {
       "dataGridStateBlob": "{\"version\":1,\"tableState\":{\"columnPinning\":{\"left\":[\"#row_number#\"],\"right\":[]},\"columnSizing\":{},\"columnVisibility\":{}},\"settings\":{\"columns\":{}},\"syncTimestamp\":1753546037868}",
       "filterBlob": null,
       "queryPlanFiltersBlob": null,
       "tableResultIndex": 0
      }
     },
     "title": ""
    }
   },
   "outputs": [
    {
     "output_type": "display_data",
     "data": {
      "text/plain": [
       "Databricks visualization. Run in Databricks to view."
      ]
     },
     "metadata": {
      "application/vnd.databricks.v1.subcommand+json": {
       "baseErrorDetails": null,
       "bindings": {},
       "collapsed": false,
       "command": "%python\n__backend_agg_display_orig = display\n__backend_agg_dfs = []\ndef __backend_agg_display_new(df):\n    __backend_agg_df_modules = [\"pandas.core.frame\", \"databricks.koalas.frame\", \"pyspark.sql.dataframe\", \"pyspark.pandas.frame\", \"pyspark.sql.connect.dataframe\"]\n    if (type(df).__module__ in __backend_agg_df_modules and type(df).__name__ == 'DataFrame') or isinstance(df, list):\n        __backend_agg_dfs.append(df)\n\ndisplay = __backend_agg_display_new\n\ndef __backend_agg_user_code_fn():\n    import base64\n    exec(base64.standard_b64decode(\"IyBEaXNwbGF5IGRhdGEgKG9ubHkgZm9yIGRlbW8gcHVycG9zZSBUT0RPOiByZW1vdmUgd2hlbiBkZXBseW9pbmcpCnByZWRpY3Rpb25zX3RyYWluID0gY3ZfbW9kZWwudHJhbnNmb3JtKGRmX3RyYWluKQpwcmVkaWN0aW9uc190ZXN0ID0gY3ZfbW9kZWwudHJhbnNmb3JtKGRmX3Rlc3QpCmRpc3BsYXkocHJlZGljdGlvbnNfdHJhaW4udW5pb24ocHJlZGljdGlvbnNfdGVzdCkuc2VsZWN0KCdkaXN0cmljdCcsICdldmVudF9kYXRldGltZScsJ3N1bV9xdWFudGl0eV9wcm9kdWN0cycsICdwcmVkaWN0aW9uJykp\").decode())\n\ntry:\n    # run user code\n    __backend_agg_user_code_fn()\n\n    #reset display function\n    display = __backend_agg_display_orig\n\n    if len(__backend_agg_dfs) > 0:\n        # create a temp view\n        if type(__backend_agg_dfs[0]).__module__ == \"databricks.koalas.frame\":\n            # koalas dataframe\n            __backend_agg_dfs[0].to_spark().createOrReplaceTempView(\"DatabricksView3ed55f1\")\n        elif type(__backend_agg_dfs[0]).__module__ == \"pandas.core.frame\" or isinstance(__backend_agg_dfs[0], list):\n            # pandas dataframe\n            spark.createDataFrame(__backend_agg_dfs[0]).createOrReplaceTempView(\"DatabricksView3ed55f1\")\n        else:\n            __backend_agg_dfs[0].createOrReplaceTempView(\"DatabricksView3ed55f1\")\n        #run backend agg\n        display(spark.sql(\"\"\"WITH q AS (select * from DatabricksView3ed55f1) SELECT `event_datetime`,SUM(`sum_quantity_products`) `column_70dd87a9233`,SUM(`prediction`) `column_70dd87a9236` FROM q GROUP BY `event_datetime`\"\"\"))\n    else:\n        displayHTML(\"dataframe no longer exists. If you're using dataframe.display(), use display(dataframe) instead.\")\n\n\nfinally:\n    spark.sql(\"drop view if exists DatabricksView3ed55f1\")\n    display = __backend_agg_display_orig\n    del __backend_agg_display_new\n    del __backend_agg_display_orig\n    del __backend_agg_dfs\n    del __backend_agg_user_code_fn\n\n",
       "commandTitle": "Visualization 1",
       "commandType": "auto",
       "commandVersion": 0,
       "commentThread": [],
       "commentsVisible": false,
       "contentSha256Hex": null,
       "customPlotOptions": {
        "redashChart": [
         {
          "key": "type",
          "value": "CHART"
         },
         {
          "key": "options",
          "value": {
           "alignYAxesAtZero": true,
           "coefficient": 1,
           "columnConfigurationMap": {
            "x": {
             "column": "event_datetime",
             "id": "column_70dd87a9227"
            },
            "y": [
             {
              "column": "sum_quantity_products",
              "id": "column_70dd87a9233",
              "transform": "SUM"
             },
             {
              "column": "prediction",
              "id": "column_70dd87a9236",
              "transform": "SUM"
             }
            ]
           },
           "dateTimeFormat": "DD/MM/YYYY HH:mm",
           "direction": {
            "type": "counterclockwise"
           },
           "error_y": {
            "type": "data",
            "visible": true
           },
           "globalSeriesType": "line",
           "isAggregationOn": true,
           "legend": {
            "traceorder": "normal"
           },
           "missingValuesAsZero": true,
           "numberFormat": "0,0.[00000]",
           "percentFormat": "0[.]00%",
           "series": {
            "error_y": {
             "type": "data",
             "visible": true
            },
            "stacking": null
           },
           "seriesOptions": {
            "column_70dd87a9233": {
             "type": "line",
             "yAxis": 0
            },
            "column_70dd87a9236": {
             "type": "line",
             "yAxis": 0
            }
           },
           "showDataLabels": false,
           "sizemode": "diameter",
           "sortX": true,
           "sortY": true,
           "swappedAxes": false,
           "textFormat": "",
           "useAggregationsUi": true,
           "valuesOptions": {},
           "version": 2,
           "xAxis": {
            "labels": {
             "enabled": true
            },
            "type": "-"
           },
           "yAxis": [
            {
             "type": "-"
            },
            {
             "opposite": true,
             "type": "-"
            }
           ]
          }
         }
        ]
       },
       "datasetPreviewNameToCmdIdMap": {},
       "diffDeletes": [],
       "diffInserts": [],
       "displayType": "redashChart",
       "error": null,
       "errorDetails": null,
       "errorSummary": null,
       "errorTraceType": null,
       "finishTime": 0,
       "globalVars": {},
       "guid": "",
       "height": "auto",
       "hideCommandCode": false,
       "hideCommandResult": false,
       "iPythonMetadata": null,
       "inputWidgets": {},
       "isLockedInExamMode": false,
       "latestUser": "a user",
       "latestUserId": null,
       "listResultMetadata": null,
       "metadata": {},
       "nuid": "10744723-0010-42c7-95ca-4e1c2cd8be5a",
       "origId": 0,
       "parentHierarchy": [],
       "pivotAggregation": null,
       "pivotColumns": null,
       "position": 10.5,
       "resultDbfsErrorMessage": null,
       "resultDbfsStatus": "INLINED_IN_TREE",
       "results": null,
       "showCommandTitle": false,
       "startTime": 0,
       "state": "input",
       "streamStates": {},
       "subcommandOptions": {
        "queryPlan": {
         "groups": [
          {
           "column": "event_datetime",
           "type": "column"
          }
         ],
         "selects": [
          {
           "column": "event_datetime",
           "type": "column"
          },
          {
           "alias": "column_70dd87a9233",
           "args": [
            {
             "column": "sum_quantity_products",
             "type": "column"
            }
           ],
           "function": "SUM",
           "type": "function"
          },
          {
           "alias": "column_70dd87a9236",
           "args": [
            {
             "column": "prediction",
             "type": "column"
            }
           ],
           "function": "SUM",
           "type": "function"
          }
         ]
        }
       },
       "submitTime": 0,
       "subtype": "tableResultSubCmd.visualization",
       "tableResultIndex": 0,
       "tableResultSettingsMap": {},
       "useConsistentColors": false,
       "version": "CommandV1",
       "width": "auto",
       "workflows": null,
       "xColumns": null,
       "yColumns": null
      }
     },
     "output_type": "display_data"
    }
   ],
   "source": [
    "# Display data (only for demo purpose TODO: remove when deplyoing)\n",
    "predictions_train = cv_model.transform(df_train)\n",
    "predictions_test = cv_model.transform(df_test)\n",
    "display(predictions_train.union(predictions_test).select('district', 'event_datetime','sum_quantity_products', 'prediction'))"
   ]
  }
 ],
 "metadata": {
  "application/vnd.databricks.v1+notebook": {
   "computePreferences": null,
   "dashboards": [],
   "environmentMetadata": {
    "base_environment": "",
    "environment_version": "2"
   },
   "inputWidgetPreferences": null,
   "language": "python",
   "notebookMetadata": {
    "pythonIndentUnit": 4
   },
   "notebookName": "model_training",
   "widgets": {}
  },
  "language_info": {
   "name": "python"
  }
 },
 "nbformat": 4,
 "nbformat_minor": 0
}
