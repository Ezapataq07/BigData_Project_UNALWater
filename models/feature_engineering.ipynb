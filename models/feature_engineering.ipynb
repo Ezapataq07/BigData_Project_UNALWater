{
 "cells": [
  {
   "cell_type": "code",
   "execution_count": 0,
   "metadata": {
    "application/vnd.databricks.v1+cell": {
     "cellMetadata": {
      "byteLimit": 2048000,
      "rowLimit": 10000
     },
     "inputWidgets": {},
     "nuid": "ffbce8bc-7452-488f-834a-301cc61d60b2",
     "showTitle": false,
     "tableResultSettingsMap": {},
     "title": ""
    }
   },
   "outputs": [],
   "source": [
    "from pyspark.sql.functions import col, avg, sum, expr, lpad, coalesce, lit, log, exp, dayofweek, when\n",
    "from databricks.feature_engineering import FeatureEngineeringClient"
   ]
  },
  {
   "cell_type": "code",
   "execution_count": 0,
   "metadata": {
    "application/vnd.databricks.v1+cell": {
     "cellMetadata": {
      "byteLimit": 2048000,
      "rowLimit": 10000
     },
     "inputWidgets": {},
     "nuid": "afadc4c8-ad05-4484-8581-0c3a24d089c8",
     "showTitle": false,
     "tableResultSettingsMap": {},
     "title": ""
    }
   },
   "outputs": [],
   "source": [
    "%run ../config/variables"
   ]
  },
  {
   "cell_type": "markdown",
   "metadata": {
    "application/vnd.databricks.v1+cell": {
     "cellMetadata": {
      "byteLimit": 2048000,
      "rowLimit": 10000
     },
     "inputWidgets": {},
     "nuid": "03cb435e-5d79-4580-ab2e-c22dbfea7636",
     "showTitle": false,
     "tableResultSettingsMap": {},
     "title": ""
    }
   },
   "source": [
    "## Load base data"
   ]
  },
  {
   "cell_type": "code",
   "execution_count": 0,
   "metadata": {
    "application/vnd.databricks.v1+cell": {
     "cellMetadata": {
      "byteLimit": 2048000,
      "rowLimit": 10000
     },
     "inputWidgets": {},
     "nuid": "31058fe0-4552-4ab2-b25d-11530ed2e3f4",
     "showTitle": false,
     "tableResultSettingsMap": {},
     "title": ""
    }
   },
   "outputs": [],
   "source": [
    "df = spark.table(f'{catalog_name}.{silver_schema_name}.slv_sales')"
   ]
  },
  {
   "cell_type": "markdown",
   "metadata": {
    "application/vnd.databricks.v1+cell": {
     "cellMetadata": {
      "byteLimit": 2048000,
      "rowLimit": 10000
     },
     "inputWidgets": {},
     "nuid": "9dd3f29f-0b1d-4af1-af5d-693943fff91f",
     "showTitle": false,
     "tableResultSettingsMap": {},
     "title": ""
    }
   },
   "source": [
    "## Engineering features"
   ]
  },
  {
   "cell_type": "code",
   "execution_count": 0,
   "metadata": {
    "application/vnd.databricks.v1+cell": {
     "cellMetadata": {
      "byteLimit": 2048000,
      "rowLimit": 10000
     },
     "inputWidgets": {},
     "nuid": "b7454e3d-73f4-41d4-8e15-4a0181994274",
     "showTitle": false,
     "tableResultSettingsMap": {},
     "title": ""
    }
   },
   "outputs": [],
   "source": [
    "df_base = (\n",
    "            df\n",
    "            .withColumn('event_date', col('event_date').cast('date')) \\\n",
    "            .withColumn('event_datetime', expr(\"to_timestamp(concat(event_date, ' ', lpad(event_hour, 2, '0')), 'yyyy-MM-dd HH')\"))\n",
    "            .groupBy('district', 'event_date', 'event_hour', 'event_datetime').agg(\n",
    "                                                                                    avg('latitude').alias('avg_latitude'),\n",
    "                                                                                    avg('longitude').alias('avg_longitude'),\n",
    "                                                                                    sum('quantity_products').alias('sum_quantity_products')\n",
    "            )\n",
    "\n",
    "          )"
   ]
  },
  {
   "cell_type": "code",
   "execution_count": 0,
   "metadata": {
    "application/vnd.databricks.v1+cell": {
     "cellMetadata": {
      "byteLimit": 2048000,
      "rowLimit": 10000
     },
     "inputWidgets": {},
     "nuid": "76062e65-888d-44a7-bc5d-286e286db488",
     "showTitle": false,
     "tableResultSettingsMap": {},
     "title": ""
    }
   },
   "outputs": [],
   "source": [
    "df_avg_coordinates = df_base.groupBy('district').agg(\n",
    "    avg('avg_latitude').alias('avg_latitude_district'),\n",
    "    avg('avg_longitude').alias('avg_longitude_district'),\n",
    ")"
   ]
  },
  {
   "cell_type": "code",
   "execution_count": 0,
   "metadata": {
    "application/vnd.databricks.v1+cell": {
     "cellMetadata": {
      "byteLimit": 2048000,
      "rowLimit": 10000
     },
     "inputWidgets": {},
     "nuid": "8b99a1ad-fbaf-4b10-ac91-238e14f7ea7c",
     "showTitle": false,
     "tableResultSettingsMap": {},
     "title": ""
    }
   },
   "outputs": [],
   "source": [
    "districts = df_base.select('district').distinct()\n",
    "dates = df_base.select('event_date').distinct()\n",
    "hours = spark.range(0,24).withColumnRenamed('id', 'event_hour')\n",
    "\n",
    "df_dataset = (\n",
    "    districts.crossJoin(dates).crossJoin(hours) \n",
    "    .withColumn('event_datetime', expr(\"to_timestamp(concat(event_date, ' ', lpad(event_hour, 2, '0')), 'yyyy-MM-dd HH')\"))\n",
    "    .join(df_base, on=['district', 'event_date', 'event_hour', 'event_datetime'], how='left')\n",
    "    .withColumn(\"sum_quantity_products\", coalesce(col(\"sum_quantity_products\"), lit(0)))\n",
    "    .join(df_avg_coordinates, on='district', how='left')\n",
    "    .withColumn('avg_latitude', coalesce(col('avg_latitude'), col('avg_latitude_district')))\n",
    "    .withColumn('avg_longitude', coalesce(col('avg_longitude'), col('avg_longitude_district')))\n",
    "    .drop('avg_latitude_district', 'avg_longitude_district')\n",
    "    .withColumn('prev_quantity_products', expr(\"lag(sum_quantity_products, 1) over(partition by district order by event_datetime)\")) \n",
    "    .withColumn('prev_quantity_products_2', expr(\"lag(sum_quantity_products, 2) over(partition by district order by event_datetime)\"))\n",
    "    .withColumn('prev_quantity_products_3', expr(\"lag(sum_quantity_products, 3) over(partition by district order by event_datetime)\"))\n",
    "    .withColumn('prev_quantity_products_4', expr(\"lag(sum_quantity_products, 4) over(partition by district order by event_datetime)\"))\n",
    "    .withColumn('prev_quantity_products_5', expr(\"lag(sum_quantity_products, 5) over(partition by district order by event_datetime)\"))\n",
    "    .withColumn('prev_quantity_products_6', expr(\"lag(sum_quantity_products, 6) over(partition by district order by event_datetime)\"))\n",
    "    .withColumn('event_weekday', dayofweek(col('event_datetime')))\n",
    "    .filter(col('prev_quantity_products').isNotNull() & col('prev_quantity_products_2').isNotNull() & col('prev_quantity_products_3').isNotNull() & col('prev_quantity_products_4').isNotNull() & col('prev_quantity_products_5').isNotNull() & col('prev_quantity_products_6').isNotNull())\n",
    ") "
   ]
  },
  {
   "cell_type": "markdown",
   "metadata": {
    "application/vnd.databricks.v1+cell": {
     "cellMetadata": {
      "byteLimit": 2048000,
      "rowLimit": 10000
     },
     "inputWidgets": {},
     "nuid": "3a366546-dc0e-4db9-9118-b7a17b2da6a0",
     "showTitle": false,
     "tableResultSettingsMap": {},
     "title": ""
    }
   },
   "source": [
    "## Save to feature store"
   ]
  },
  {
   "cell_type": "code",
   "execution_count": 0,
   "metadata": {
    "application/vnd.databricks.v1+cell": {
     "cellMetadata": {
      "byteLimit": 2048000,
      "rowLimit": 10000
     },
     "inputWidgets": {},
     "nuid": "7e1219d3-3c0b-45f3-847d-1a5b4e4224be",
     "showTitle": false,
     "tableResultSettingsMap": {},
     "title": ""
    }
   },
   "outputs": [],
   "source": [
    "fe = FeatureEngineeringClient()"
   ]
  },
  {
   "cell_type": "code",
   "execution_count": 0,
   "metadata": {
    "application/vnd.databricks.v1+cell": {
     "cellMetadata": {
      "byteLimit": 2048000,
      "rowLimit": 10000
     },
     "inputWidgets": {},
     "nuid": "2be5debf-95a3-46e2-8191-993e5bdf0a8f",
     "showTitle": false,
     "tableResultSettingsMap": {},
     "title": ""
    }
   },
   "outputs": [],
   "source": [
    "# fe.create_table(\n",
    "#     name = f'{catalog_name}.{gold_schema_name}.features_demand_forecast',\n",
    "#     primary_keys=['district','event_datetime'],\n",
    "#     df = df_dataset,\n",
    "#     partition_columns=['event_date'],\n",
    "#     description = 'Sales Features Aggregated by District for Demand forecasting',\n",
    "# )"
   ]
  },
  {
   "cell_type": "code",
   "execution_count": 0,
   "metadata": {
    "application/vnd.databricks.v1+cell": {
     "cellMetadata": {
      "byteLimit": 2048000,
      "rowLimit": 10000
     },
     "inputWidgets": {},
     "nuid": "74f285f0-368d-44dc-86e6-bc0c6b585a3e",
     "showTitle": false,
     "tableResultSettingsMap": {},
     "title": ""
    }
   },
   "outputs": [],
   "source": [
    "fe.write_table(\n",
    "    name = f'{catalog_name}.{gold_schema_name}.features_demand_forecast',\n",
    "    df = df_dataset,\n",
    "    mode = 'merge'\n",
    ")"
   ]
  }
 ],
 "metadata": {
  "application/vnd.databricks.v1+notebook": {
   "computePreferences": null,
   "dashboards": [],
   "environmentMetadata": {
    "base_environment": "",
    "environment_version": "2"
   },
   "inputWidgetPreferences": null,
   "language": "python",
   "notebookMetadata": {
    "mostRecentlyExecutedCommandWithImplicitDF": {
     "commandId": 7747969348809591,
     "dataframes": [
      "_sqldf"
     ]
    },
    "pythonIndentUnit": 4
   },
   "notebookName": "feature_engineering",
   "widgets": {}
  },
  "language_info": {
   "name": "python"
  }
 },
 "nbformat": 4,
 "nbformat_minor": 0
}
