{
 "cells": [
  {
   "cell_type": "code",
   "execution_count": 0,
   "metadata": {
    "application/vnd.databricks.v1+cell": {
     "cellMetadata": {
      "byteLimit": 2048000,
      "rowLimit": 10000
     },
     "inputWidgets": {},
     "nuid": "3130fb47-46c2-49bd-be40-9d4145541e62",
     "showTitle": false,
     "tableResultSettingsMap": {},
     "title": ""
    }
   },
   "outputs": [],
   "source": [
    "%run ./variables"
   ]
  },
  {
   "cell_type": "markdown",
   "metadata": {
    "application/vnd.databricks.v1+cell": {
     "cellMetadata": {
      "byteLimit": 2048000,
      "rowLimit": 10000
     },
     "inputWidgets": {},
     "nuid": "3ead0f68-9d6a-45b3-abd0-bb213e080717",
     "showTitle": false,
     "tableResultSettingsMap": {},
     "title": ""
    }
   },
   "source": [
    "## Staging layer"
   ]
  },
  {
   "cell_type": "code",
   "execution_count": 0,
   "metadata": {
    "application/vnd.databricks.v1+cell": {
     "cellMetadata": {
      "byteLimit": 2048000,
      "rowLimit": 10000
     },
     "inputWidgets": {},
     "nuid": "cc2ffb12-8058-4e2a-be60-dbe62a9cf794",
     "showTitle": false,
     "tableResultSettingsMap": {},
     "title": ""
    }
   },
   "outputs": [],
   "source": [
    "spark.sql(f\"\"\"\n",
    "  CREATE VOLUME IF NOT EXISTS {catalog_name}.{bronze_schema_name}.{staging_volume_name}\n",
    "\"\"\")"
   ]
  },
  {
   "cell_type": "code",
   "execution_count": 0,
   "metadata": {
    "application/vnd.databricks.v1+cell": {
     "cellMetadata": {
      "byteLimit": 2048000,
      "rowLimit": 10000
     },
     "inputWidgets": {},
     "nuid": "bc3a6533-471a-4a0c-a621-aae3f964218f",
     "showTitle": false,
     "tableResultSettingsMap": {},
     "title": ""
    }
   },
   "outputs": [],
   "source": [
    "dbutils.fs.mkdirs(customers_volume_path,)\n",
    "dbutils.fs.mkdirs(employees_volume_path)\n",
    "dbutils.fs.mkdirs(municipalities_volume_path)\n",
    "dbutils.fs.mkdirs(neighborhoods_volume_path)\n",
    "dbutils.fs.mkdirs(sales_volume_path)"
   ]
  },
  {
   "cell_type": "markdown",
   "metadata": {
    "application/vnd.databricks.v1+cell": {
     "cellMetadata": {
      "byteLimit": 2048000,
      "rowLimit": 10000
     },
     "inputWidgets": {},
     "nuid": "c33f99a6-d855-40aa-bead-0696784957ff",
     "showTitle": false,
     "tableResultSettingsMap": {},
     "title": ""
    }
   },
   "source": [
    "## Bronze layer"
   ]
  },
  {
   "cell_type": "code",
   "execution_count": 0,
   "metadata": {
    "application/vnd.databricks.v1+cell": {
     "cellMetadata": {
      "byteLimit": 2048000,
      "rowLimit": 10000
     },
     "inputWidgets": {},
     "nuid": "6510f7e1-a911-4faa-8db3-5492ef9a0a7f",
     "showTitle": false,
     "tableResultSettingsMap": {},
     "title": ""
    }
   },
   "outputs": [],
   "source": [
    "spark.sql(f\"\"\"\n",
    "    CREATE SCHEMA IF NOT EXISTS {catalog_name}.{bronze_schema_name}\n",
    "\"\"\")"
   ]
  },
  {
   "cell_type": "code",
   "execution_count": 0,
   "metadata": {
    "application/vnd.databricks.v1+cell": {
     "cellMetadata": {
      "byteLimit": 2048000,
      "rowLimit": 10000
     },
     "inputWidgets": {},
     "nuid": "d18f3364-260c-428b-8a92-573a22b03d1d",
     "showTitle": false,
     "tableResultSettingsMap": {},
     "title": ""
    }
   },
   "outputs": [],
   "source": [
    "spark.sql(f\"\"\"\n",
    "    CREATE TABLE IF NOT EXISTS {catalog_name}.{bronze_schema_name}.brz_customers (\n",
    "        customer_id BIGINT,\n",
    "        name STRING,\n",
    "        phone STRING,\n",
    "        email STRING,\n",
    "        address STRING\n",
    "    )\n",
    "\"\"\")"
   ]
  },
  {
   "cell_type": "code",
   "execution_count": 0,
   "metadata": {
    "application/vnd.databricks.v1+cell": {
     "cellMetadata": {
      "byteLimit": 2048000,
      "rowLimit": 10000
     },
     "inputWidgets": {},
     "nuid": "545a598c-7a5d-425a-91d6-778eb994737e",
     "showTitle": false,
     "tableResultSettingsMap": {},
     "title": ""
    }
   },
   "outputs": [],
   "source": [
    "spark.sql(f\"\"\"\n",
    "    CREATE TABLE IF NOT EXISTS {catalog_name}.{bronze_schema_name}.brz_employees (\n",
    "        employee_id BIGINT,\n",
    "        name STRING,\n",
    "        phone STRING,\n",
    "        email STRING,\n",
    "        address STRING,\n",
    "        comission DOUBLE\n",
    "    )\n",
    "\"\"\")"
   ]
  },
  {
   "cell_type": "code",
   "execution_count": 0,
   "metadata": {
    "application/vnd.databricks.v1+cell": {
     "cellMetadata": {
      "byteLimit": 2048000,
      "rowLimit": 10000
     },
     "inputWidgets": {},
     "nuid": "6ef347a0-fee3-4d86-ad03-809fe66d914a",
     "showTitle": false,
     "tableResultSettingsMap": {},
     "title": ""
    }
   },
   "outputs": [],
   "source": [
    "spark.sql(f\"\"\"\n",
    "    CREATE TABLE IF NOT EXISTS {catalog_name}.{bronze_schema_name}.brz_municipalities (\n",
    "        DPTOMPIO STRING,\n",
    "        DPTO_CCDGO STRING,\n",
    "        MPIO_CCDGO STRING,\n",
    "        MPIO_CNMBR STRING,\n",
    "        MPIO_CCNCT STRING,\n",
    "        geometry BINARY\n",
    "    )\n",
    "\"\"\")"
   ]
  },
  {
   "cell_type": "code",
   "execution_count": 0,
   "metadata": {
    "application/vnd.databricks.v1+cell": {
     "cellMetadata": {
      "byteLimit": 2048000,
      "rowLimit": 10000
     },
     "inputWidgets": {},
     "nuid": "1b9072c7-be88-4632-a7f2-16a2b2c43509",
     "showTitle": false,
     "tableResultSettingsMap": {},
     "title": ""
    }
   },
   "outputs": [],
   "source": [
    "spark.sql(f\"\"\"\n",
    "    CREATE TABLE IF NOT EXISTS {catalog_name}.{bronze_schema_name}.brz_neighborhoods (\n",
    "        OBJECTID BIGINT,\n",
    "        CODIGO STRING,\n",
    "        NOMBRE STRING,\n",
    "        IDENTIFICACION STRING,\n",
    "        LIMITEMUNICIPIOID STRING,\n",
    "        SUBTIPO_COMUNACORREGIMIENTO BIGINT,\n",
    "        LINK_DOCUMENTO INT,\n",
    "        SHAPEAREA DOUBLE,\n",
    "        SHAPELEN DOUBLE,\n",
    "        geometry BINARY\n",
    "    )\n",
    "\"\"\")"
   ]
  },
  {
   "cell_type": "code",
   "execution_count": 0,
   "metadata": {
    "application/vnd.databricks.v1+cell": {
     "cellMetadata": {
      "byteLimit": 2048000,
      "rowLimit": 10000
     },
     "inputWidgets": {},
     "nuid": "b5df54b7-de8c-4ef0-ad48-e886d89a1265",
     "showTitle": false,
     "tableResultSettingsMap": {},
     "title": ""
    }
   },
   "outputs": [],
   "source": [
    "spark.sql(f\"\"\"\n",
    "    CREATE TABLE IF NOT EXISTS {catalog_name}.{bronze_schema_name}.brz_sales (\n",
    "        latitude DOUBLE,\n",
    "        longitude DOUBLE,\n",
    "        date STRING,\n",
    "        customer_id INT,\n",
    "        employee_id INT,\n",
    "        quantity_products INT,\n",
    "        order_id STRING\n",
    "    )\n",
    "\"\"\")"
   ]
  },
  {
   "cell_type": "markdown",
   "metadata": {
    "application/vnd.databricks.v1+cell": {
     "cellMetadata": {
      "byteLimit": 2048000,
      "rowLimit": 10000
     },
     "inputWidgets": {},
     "nuid": "87c9848f-d280-4425-8ad1-7cb979e59aa7",
     "showTitle": false,
     "tableResultSettingsMap": {},
     "title": ""
    }
   },
   "source": [
    "## Silver layer"
   ]
  },
  {
   "cell_type": "code",
   "execution_count": 0,
   "metadata": {
    "application/vnd.databricks.v1+cell": {
     "cellMetadata": {
      "byteLimit": 2048000,
      "rowLimit": 10000
     },
     "inputWidgets": {},
     "nuid": "b09f5b2e-c260-4974-aa8d-2102743b4151",
     "showTitle": false,
     "tableResultSettingsMap": {},
     "title": ""
    }
   },
   "outputs": [],
   "source": [
    "spark.sql(f\"\"\"\n",
    "    CREATE SCHEMA IF NOT EXISTS {catalog_name}.{silver_schema_name}\n",
    "\"\"\")"
   ]
  },
  {
   "cell_type": "code",
   "execution_count": 0,
   "metadata": {
    "application/vnd.databricks.v1+cell": {
     "cellMetadata": {
      "byteLimit": 2048000,
      "rowLimit": 10000
     },
     "inputWidgets": {},
     "nuid": "c598337b-4218-487e-b67e-a4758d344617",
     "showTitle": false,
     "tableResultSettingsMap": {},
     "title": ""
    }
   },
   "outputs": [],
   "source": [
    "spark.sql(f\"\"\"\n",
    "    CREATE TABLE IF NOT EXISTS {catalog_name}.{silver_schema_name}.slv_customers (\n",
    "        customer_id BIGINT,\n",
    "        name STRING,\n",
    "        phone STRING,\n",
    "        email STRING,\n",
    "        address STRING\n",
    "    )\n",
    "\"\"\")"
   ]
  },
  {
   "cell_type": "code",
   "execution_count": 0,
   "metadata": {
    "application/vnd.databricks.v1+cell": {
     "cellMetadata": {
      "byteLimit": 2048000,
      "rowLimit": 10000
     },
     "inputWidgets": {},
     "nuid": "b998c5ae-0301-483a-9ecf-deb57ef5baec",
     "showTitle": false,
     "tableResultSettingsMap": {},
     "title": ""
    }
   },
   "outputs": [],
   "source": [
    "spark.sql(f\"\"\"\n",
    "    CREATE TABLE IF NOT EXISTS {catalog_name}.{silver_schema_name}.slv_employees (\n",
    "        employee_id BIGINT,\n",
    "        name STRING,\n",
    "        phone STRING,\n",
    "        email STRING,\n",
    "        address STRING,\n",
    "        comission DOUBLE\n",
    "    )\n",
    "\"\"\")"
   ]
  },
  {
   "cell_type": "code",
   "execution_count": 0,
   "metadata": {
    "application/vnd.databricks.v1+cell": {
     "cellMetadata": {
      "byteLimit": 2048000,
      "rowLimit": 10000
     },
     "inputWidgets": {},
     "nuid": "83773403-712b-4e4e-bc0e-bd7ff8cdb17f",
     "showTitle": false,
     "tableResultSettingsMap": {},
     "title": ""
    }
   },
   "outputs": [],
   "source": [
    "spark.sql(f\"\"\"\n",
    "    CREATE TABLE IF NOT EXISTS {catalog_name}.{silver_schema_name}.slv_municipalities (\n",
    "        code STRING,\n",
    "        department_code STRING,\n",
    "        municipality_code STRING,\n",
    "        municipality STRING,\n",
    "        ccnct_code STRING,\n",
    "        geojson STRING\n",
    "    )\n",
    "\"\"\")"
   ]
  },
  {
   "cell_type": "code",
   "execution_count": 0,
   "metadata": {
    "application/vnd.databricks.v1+cell": {
     "cellMetadata": {
      "byteLimit": 2048000,
      "rowLimit": 10000
     },
     "inputWidgets": {},
     "nuid": "e5f90fe5-c093-45b7-b87b-0c73ed7cefe0",
     "showTitle": false,
     "tableResultSettingsMap": {},
     "title": ""
    }
   },
   "outputs": [],
   "source": [
    "spark.sql(f\"\"\"\n",
    "    CREATE TABLE IF NOT EXISTS {catalog_name}.{silver_schema_name}.slv_neighborhoods (\n",
    "        object_id BIGINT,\n",
    "        code STRING,\n",
    "        name STRING,\n",
    "        identification STRING,\n",
    "        limit_municipality_id STRING,\n",
    "        subtype_community_district BIGINT,\n",
    "        link_document INT,\n",
    "        shape_area DOUBLE,\n",
    "        shape_len DOUBLE,\n",
    "        geojson STRING\n",
    "    )\n",
    "\"\"\")"
   ]
  },
  {
   "cell_type": "code",
   "execution_count": 0,
   "metadata": {
    "application/vnd.databricks.v1+cell": {
     "cellMetadata": {
      "byteLimit": 2048000,
      "rowLimit": 10000
     },
     "inputWidgets": {},
     "nuid": "085f5641-40ca-4600-b07b-c48187203268",
     "showTitle": false,
     "tableResultSettingsMap": {},
     "title": ""
    }
   },
   "outputs": [],
   "source": [
    "spark.sql(f\"\"\"\n",
    "    CREATE TABLE IF NOT EXISTS {catalog_name}.{silver_schema_name}.slv_sales (\n",
    "        order_id STRING,\n",
    "        customer_id INT,\n",
    "        employee_id INT,\n",
    "        event_date TIMESTAMP,\n",
    "        latitude DOUBLE,\n",
    "        longitude DOUBLE,\n",
    "        quantity_products INT,\n",
    "        partition_date STRING,\n",
    "        event_day INT,\n",
    "        event_hour INT,\n",
    "        event_minute INT,\n",
    "        event_month INT,\n",
    "        event_second INT,\n",
    "        event_year INT\n",
    "    )\n",
    "\"\"\")"
   ]
  }
 ],
 "metadata": {
  "application/vnd.databricks.v1+notebook": {
   "computePreferences": null,
   "dashboards": [],
   "environmentMetadata": {
    "base_environment": "",
    "environment_version": "2"
   },
   "inputWidgetPreferences": null,
   "language": "python",
   "notebookMetadata": {
    "mostRecentlyExecutedCommandWithImplicitDF": {
     "commandId": 7669855064685857,
     "dataframes": [
      "_sqldf"
     ]
    },
    "pythonIndentUnit": 4
   },
   "notebookName": "artifacts",
   "widgets": {}
  },
  "language_info": {
   "name": "python"
  }
 },
 "nbformat": 4,
 "nbformat_minor": 0
}
