{
 "cells": [
  {
   "cell_type": "code",
   "execution_count": 0,
   "metadata": {
    "application/vnd.databricks.v1+cell": {
     "cellMetadata": {
      "byteLimit": 2048000,
      "rowLimit": 10000
     },
     "inputWidgets": {},
     "nuid": "3130fb47-46c2-49bd-be40-9d4145541e62",
     "showTitle": false,
     "tableResultSettingsMap": {},
     "title": ""
    }
   },
   "outputs": [],
   "source": [
    "%run ./variables"
   ]
  },
  {
   "cell_type": "markdown",
   "metadata": {
    "application/vnd.databricks.v1+cell": {
     "cellMetadata": {},
     "inputWidgets": {},
     "nuid": "3ead0f68-9d6a-45b3-abd0-bb213e080717",
     "showTitle": false,
     "tableResultSettingsMap": {},
     "title": ""
    }
   },
   "source": [
    "## Staging layer"
   ]
  },
  {
   "cell_type": "code",
   "execution_count": 0,
   "metadata": {
    "application/vnd.databricks.v1+cell": {
     "cellMetadata": {
      "byteLimit": 2048000,
      "rowLimit": 10000
     },
     "inputWidgets": {},
     "nuid": "6510f7e1-a911-4faa-8db3-5492ef9a0a7f",
     "showTitle": false,
     "tableResultSettingsMap": {},
     "title": ""
    }
   },
   "outputs": [],
   "source": [
    "spark.sql(f\"\"\"\n",
    "    CREATE SCHEMA IF NOT EXISTS {catalog_name}.{bronze_schema_name}\n",
    "\"\"\")"
   ]
  },
  {
   "cell_type": "code",
   "execution_count": 0,
   "metadata": {
    "application/vnd.databricks.v1+cell": {
     "cellMetadata": {
      "byteLimit": 2048000,
      "rowLimit": 10000
     },
     "inputWidgets": {},
     "nuid": "cc2ffb12-8058-4e2a-be60-dbe62a9cf794",
     "showTitle": false,
     "tableResultSettingsMap": {},
     "title": ""
    }
   },
   "outputs": [],
   "source": [
    "spark.sql(f\"\"\"\n",
    "  CREATE VOLUME IF NOT EXISTS {catalog_name}.{bronze_schema_name}.{staging_volume_name}\n",
    "\"\"\")"
   ]
  },
  {
   "cell_type": "code",
   "execution_count": 0,
   "metadata": {
    "application/vnd.databricks.v1+cell": {
     "cellMetadata": {
      "byteLimit": 2048000,
      "rowLimit": 10000
     },
     "inputWidgets": {},
     "nuid": "bc3a6533-471a-4a0c-a621-aae3f964218f",
     "showTitle": false,
     "tableResultSettingsMap": {},
     "title": ""
    }
   },
   "outputs": [],
   "source": [
    "dbutils.fs.mkdirs(customers_volume_path,)\n",
    "dbutils.fs.mkdirs(employees_volume_path)\n",
    "dbutils.fs.mkdirs(municipalities_volume_path)\n",
    "dbutils.fs.mkdirs(neighborhoods_volume_path)\n",
    "dbutils.fs.mkdirs(sales_volume_path)"
   ]
  },
  {
   "cell_type": "markdown",
   "metadata": {
    "application/vnd.databricks.v1+cell": {
     "cellMetadata": {},
     "inputWidgets": {},
     "nuid": "c33f99a6-d855-40aa-bead-0696784957ff",
     "showTitle": false,
     "tableResultSettingsMap": {},
     "title": ""
    }
   },
   "source": [
    "## Bronze layer"
   ]
  },
  {
   "cell_type": "code",
   "execution_count": 0,
   "metadata": {
    "application/vnd.databricks.v1+cell": {
     "cellMetadata": {
      "byteLimit": 2048000,
      "rowLimit": 10000
     },
     "inputWidgets": {},
     "nuid": "d18f3364-260c-428b-8a92-573a22b03d1d",
     "showTitle": false,
     "tableResultSettingsMap": {},
     "title": ""
    }
   },
   "outputs": [],
   "source": [
    "spark.sql(f\"\"\"\n",
    "    CREATE TABLE IF NOT EXISTS {catalog_name}.{bronze_schema_name}.brz_customers (\n",
    "        customer_id BIGINT,\n",
    "        name STRING,\n",
    "        phone STRING,\n",
    "        email STRING,\n",
    "        address STRING\n",
    "    )\n",
    "\"\"\")"
   ]
  },
  {
   "cell_type": "code",
   "execution_count": 0,
   "metadata": {
    "application/vnd.databricks.v1+cell": {
     "cellMetadata": {
      "byteLimit": 2048000,
      "rowLimit": 10000
     },
     "inputWidgets": {},
     "nuid": "545a598c-7a5d-425a-91d6-778eb994737e",
     "showTitle": false,
     "tableResultSettingsMap": {},
     "title": ""
    }
   },
   "outputs": [],
   "source": [
    "spark.sql(f\"\"\"\n",
    "    CREATE TABLE IF NOT EXISTS {catalog_name}.{bronze_schema_name}.brz_employees (\n",
    "        employee_id BIGINT,\n",
    "        name STRING,\n",
    "        phone STRING,\n",
    "        email STRING,\n",
    "        address STRING,\n",
    "        comission DOUBLE\n",
    "    )\n",
    "\"\"\")"
   ]
  },
  {
   "cell_type": "code",
   "execution_count": 0,
   "metadata": {
    "application/vnd.databricks.v1+cell": {
     "cellMetadata": {
      "byteLimit": 2048000,
      "rowLimit": 10000
     },
     "inputWidgets": {},
     "nuid": "6ef347a0-fee3-4d86-ad03-809fe66d914a",
     "showTitle": false,
     "tableResultSettingsMap": {},
     "title": ""
    }
   },
   "outputs": [],
   "source": [
    "spark.sql(f\"\"\"\n",
    "    CREATE TABLE IF NOT EXISTS {catalog_name}.{bronze_schema_name}.brz_municipalities (\n",
    "        DPTOMPIO STRING,\n",
    "        DPTO_CCDGO STRING,\n",
    "        MPIO_CCDGO STRING,\n",
    "        MPIO_CNMBR STRING,\n",
    "        MPIO_CCNCT STRING,\n",
    "        geometry BINARY\n",
    "    )\n",
    "\"\"\")"
   ]
  },
  {
   "cell_type": "code",
   "execution_count": 0,
   "metadata": {
    "application/vnd.databricks.v1+cell": {
     "cellMetadata": {
      "byteLimit": 2048000,
      "rowLimit": 10000
     },
     "inputWidgets": {},
     "nuid": "1b9072c7-be88-4632-a7f2-16a2b2c43509",
     "showTitle": false,
     "tableResultSettingsMap": {},
     "title": ""
    }
   },
   "outputs": [],
   "source": [
    "spark.sql(f\"\"\"\n",
    "    CREATE TABLE IF NOT EXISTS {catalog_name}.{bronze_schema_name}.brz_neighborhoods (\n",
    "        OBJECTID BIGINT,\n",
    "        CODIGO STRING,\n",
    "        NOMBRE STRING,\n",
    "        IDENTIFICACION STRING,\n",
    "        LIMITEMUNICIPIOID STRING,\n",
    "        SUBTIPO_COMUNACORREGIMIENTO BIGINT,\n",
    "        LINK_DOCUMENTO INT,\n",
    "        SHAPEAREA DOUBLE,\n",
    "        SHAPELEN DOUBLE,\n",
    "        geometry BINARY\n",
    "    )\n",
    "\"\"\")"
   ]
  },
  {
   "cell_type": "code",
   "execution_count": 0,
   "metadata": {
    "application/vnd.databricks.v1+cell": {
     "cellMetadata": {
      "byteLimit": 2048000,
      "rowLimit": 10000
     },
     "inputWidgets": {},
     "nuid": "b5df54b7-de8c-4ef0-ad48-e886d89a1265",
     "showTitle": false,
     "tableResultSettingsMap": {},
     "title": ""
    }
   },
   "outputs": [],
   "source": [
    "spark.sql(f\"\"\"\n",
    "    CREATE TABLE IF NOT EXISTS {catalog_name}.{bronze_schema_name}.brz_sales (\n",
    "        latitude DOUBLE,\n",
    "        longitude DOUBLE,\n",
    "        date STRING,\n",
    "        customer_id INT,\n",
    "        employee_id INT,\n",
    "        quantity_products INT,\n",
    "        order_id STRING\n",
    "    )\n",
    "    PARTITIONED BY (employee_id)\n",
    "\"\"\")"
   ]
  },
  {
   "cell_type": "markdown",
   "metadata": {
    "application/vnd.databricks.v1+cell": {
     "cellMetadata": {},
     "inputWidgets": {},
     "nuid": "87c9848f-d280-4425-8ad1-7cb979e59aa7",
     "showTitle": false,
     "tableResultSettingsMap": {},
     "title": ""
    }
   },
   "source": [
    "## Silver layer"
   ]
  },
  {
   "cell_type": "code",
   "execution_count": 0,
   "metadata": {
    "application/vnd.databricks.v1+cell": {
     "cellMetadata": {
      "byteLimit": 2048000,
      "rowLimit": 10000
     },
     "inputWidgets": {},
     "nuid": "b09f5b2e-c260-4974-aa8d-2102743b4151",
     "showTitle": false,
     "tableResultSettingsMap": {},
     "title": ""
    }
   },
   "outputs": [],
   "source": [
    "spark.sql(f\"\"\"\n",
    "    CREATE SCHEMA IF NOT EXISTS {catalog_name}.{silver_schema_name}\n",
    "\"\"\")"
   ]
  },
  {
   "cell_type": "code",
   "execution_count": 0,
   "metadata": {
    "application/vnd.databricks.v1+cell": {
     "cellMetadata": {
      "byteLimit": 2048000,
      "rowLimit": 10000
     },
     "inputWidgets": {},
     "nuid": "728ad0a2-a649-4ef6-9bd2-96196db0d249",
     "showTitle": false,
     "tableResultSettingsMap": {},
     "title": ""
    }
   },
   "outputs": [],
   "source": [
    "spark.sql(f\"\"\"\n",
    "  CREATE VOLUME IF NOT EXISTS {catalog_name}.{silver_schema_name}.{silver_volume_name}\n",
    "\"\"\")"
   ]
  },
  {
   "cell_type": "code",
   "execution_count": 0,
   "metadata": {
    "application/vnd.databricks.v1+cell": {
     "cellMetadata": {
      "byteLimit": 2048000,
      "rowLimit": 10000
     },
     "inputWidgets": {},
     "nuid": "c598337b-4218-487e-b67e-a4758d344617",
     "showTitle": false,
     "tableResultSettingsMap": {},
     "title": ""
    }
   },
   "outputs": [],
   "source": [
    "spark.sql(f\"\"\"\n",
    "    CREATE TABLE IF NOT EXISTS {catalog_name}.{silver_schema_name}.slv_customers (\n",
    "        customer_id BIGINT,\n",
    "        name STRING,\n",
    "        phone STRING,\n",
    "        email STRING,\n",
    "        address STRING\n",
    "    )\n",
    "\"\"\")"
   ]
  },
  {
   "cell_type": "code",
   "execution_count": 0,
   "metadata": {
    "application/vnd.databricks.v1+cell": {
     "cellMetadata": {
      "byteLimit": 2048000,
      "rowLimit": 10000
     },
     "inputWidgets": {},
     "nuid": "b998c5ae-0301-483a-9ecf-deb57ef5baec",
     "showTitle": false,
     "tableResultSettingsMap": {},
     "title": ""
    }
   },
   "outputs": [],
   "source": [
    "spark.sql(f\"\"\"\n",
    "    CREATE TABLE IF NOT EXISTS {catalog_name}.{silver_schema_name}.slv_employees (\n",
    "        employee_id BIGINT,\n",
    "        name STRING,\n",
    "        phone STRING,\n",
    "        email STRING,\n",
    "        address STRING,\n",
    "        comission DOUBLE\n",
    "    )\n",
    "\"\"\")"
   ]
  },
  {
   "cell_type": "code",
   "execution_count": 0,
   "metadata": {
    "application/vnd.databricks.v1+cell": {
     "cellMetadata": {
      "byteLimit": 2048000,
      "rowLimit": 10000
     },
     "inputWidgets": {},
     "nuid": "83773403-712b-4e4e-bc0e-bd7ff8cdb17f",
     "showTitle": false,
     "tableResultSettingsMap": {},
     "title": ""
    }
   },
   "outputs": [],
   "source": [
    "spark.sql(f\"\"\"\n",
    "    CREATE TABLE IF NOT EXISTS {catalog_name}.{silver_schema_name}.slv_municipalities (\n",
    "        code STRING,\n",
    "        department_code STRING,\n",
    "        municipality_code STRING,\n",
    "        municipality STRING,\n",
    "        ccnct_code STRING,\n",
    "        geojson STRING\n",
    "    )\n",
    "\"\"\")"
   ]
  },
  {
   "cell_type": "code",
   "execution_count": 0,
   "metadata": {
    "application/vnd.databricks.v1+cell": {
     "cellMetadata": {
      "byteLimit": 2048000,
      "rowLimit": 10000
     },
     "inputWidgets": {},
     "nuid": "e5f90fe5-c093-45b7-b87b-0c73ed7cefe0",
     "showTitle": false,
     "tableResultSettingsMap": {},
     "title": ""
    }
   },
   "outputs": [],
   "source": [
    "spark.sql(f\"\"\"\n",
    "    CREATE TABLE IF NOT EXISTS {catalog_name}.{silver_schema_name}.slv_neighborhoods (\n",
    "        object_id BIGINT,\n",
    "        code STRING,\n",
    "        name STRING,\n",
    "        identification STRING,\n",
    "        limit_municipality_id STRING,\n",
    "        subtype_community_district BIGINT,\n",
    "        link_document INT,\n",
    "        shape_area DOUBLE,\n",
    "        shape_len DOUBLE,\n",
    "        geojson STRING\n",
    "    )\n",
    "\"\"\")"
   ]
  },
  {
   "cell_type": "code",
   "execution_count": 0,
   "metadata": {
    "application/vnd.databricks.v1+cell": {
     "cellMetadata": {
      "byteLimit": 2048000,
      "rowLimit": 10000
     },
     "inputWidgets": {},
     "nuid": "085f5641-40ca-4600-b07b-c48187203268",
     "showTitle": false,
     "tableResultSettingsMap": {},
     "title": ""
    }
   },
   "outputs": [],
   "source": [
    "spark.sql(f\"\"\"\n",
    "    CREATE TABLE IF NOT EXISTS {catalog_name}.{silver_schema_name}.slv_sales (\n",
    "        order_id STRING,\n",
    "        customer_id INT,\n",
    "        employee_id INT,\n",
    "        latitude DOUBLE,\n",
    "        longitude DOUBLE,\n",
    "        quantity_products INT,\n",
    "        district STRING,\n",
    "        neighborhood STRING,\n",
    "        event_date TIMESTAMP,\n",
    "        partition_date STRING,\n",
    "        event_day INT,\n",
    "        event_hour INT,\n",
    "        event_minute INT,\n",
    "        event_month INT,\n",
    "        event_second INT,\n",
    "        event_year INT\n",
    "    )\n",
    "    PARTITIONED BY (partition_date)\n",
    "\"\"\")"
   ]
  },
  {
   "cell_type": "markdown",
   "metadata": {
    "application/vnd.databricks.v1+cell": {
     "cellMetadata": {},
     "inputWidgets": {},
     "nuid": "107a8a53-9dee-4902-97b3-0a41a8d2ea2b",
     "showTitle": false,
     "tableResultSettingsMap": {},
     "title": ""
    }
   },
   "source": [
    "## Gold layer"
   ]
  },
  {
   "cell_type": "markdown",
   "metadata": {
    "application/vnd.databricks.v1+cell": {
     "cellMetadata": {},
     "inputWidgets": {},
     "nuid": "6b047699-d9f9-4e23-9477-1430c809187c",
     "showTitle": false,
     "tableResultSettingsMap": {},
     "title": ""
    }
   },
   "source": [
    "### Tables"
   ]
  },
  {
   "cell_type": "code",
   "execution_count": 0,
   "metadata": {
    "application/vnd.databricks.v1+cell": {
     "cellMetadata": {
      "byteLimit": 2048000,
      "rowLimit": 10000
     },
     "inputWidgets": {},
     "nuid": "ae405812-7c6d-4cdf-8543-10212a0313d5",
     "showTitle": false,
     "tableResultSettingsMap": {},
     "title": ""
    }
   },
   "outputs": [],
   "source": [
    "spark.sql(f\"\"\"\n",
    "    CREATE TABLE IF NOT EXISTS {catalog_name}.{gold_schema_name}.gld_sales (\n",
    "        order_id STRING,\n",
    "        employee STRING,\n",
    "        customer STRING,\n",
    "        latitude DOUBLE,\n",
    "        longitude DOUBLE,\n",
    "        district STRING,\n",
    "        quantity_products INT,\n",
    "        partition_date STRING,\n",
    "        event_day INT,\n",
    "        event_month INT,\n",
    "        event_year INT,\n",
    "        event_date DATE\n",
    "    )\n",
    "    PARTITIONED BY (event_date)\n",
    "\"\"\")"
   ]
  },
  {
   "cell_type": "code",
   "execution_count": 0,
   "metadata": {
    "application/vnd.databricks.v1+cell": {
     "cellMetadata": {
      "byteLimit": 2048000,
      "rowLimit": 10000
     },
     "inputWidgets": {},
     "nuid": "4517e6c8-8c9b-44ea-ae0f-78328b9b0e3e",
     "showTitle": false,
     "tableResultSettingsMap": {},
     "title": ""
    }
   },
   "outputs": [],
   "source": [
    "spark.sql(f\"\"\"\n",
    "    CREATE TABLE IF NOT EXISTS {catalog_name}.{gold_schema_name}.gld_sales_districts (\n",
    "        event_date DATE,\n",
    "        district STRING,\n",
    "        total_sales_per_day LONG NOT NULL,\n",
    "        sales_rank INT NOT NULL,\n",
    "        percent_total_sales_per_day DECIMAL(27,2),\n",
    "        total_products_sold_per_day LONG,\n",
    "        percent_products_sold_per_day DECIMAL(27,2)\n",
    "    )\n",
    "    PARTITIONED BY (event_date,district)\n",
    "\"\"\")"
   ]
  },
  {
   "cell_type": "code",
   "execution_count": 0,
   "metadata": {
    "application/vnd.databricks.v1+cell": {
     "cellMetadata": {
      "byteLimit": 2048000,
      "rowLimit": 10000
     },
     "inputWidgets": {},
     "nuid": "90553391-8d4c-4632-a6a8-3c837cbf2f81",
     "showTitle": false,
     "tableResultSettingsMap": {},
     "title": ""
    }
   },
   "outputs": [],
   "source": [
    "spark.sql(f\"\"\"\n",
    "    CREATE TABLE IF NOT EXISTS {catalog_name}.{gold_schema_name}.gld_sales_employees (\n",
    "        event_date DATE,\n",
    "        employee STRING,\n",
    "        employee_effectiveness DECIMAL(27,2),\n",
    "        effectiveness_rank INT NOT NULL,\n",
    "        total_sales_per_day LONG NOT NULL,\n",
    "        sales_rank INT NOT NULL,\n",
    "        percent_total_sales_per_day DECIMAL(27,2),\n",
    "        total_products_sold_per_day LONG,\n",
    "        percent_products_sold_per_day DECIMAL(27,2)\n",
    "    )\n",
    "    PARTITIONED BY (employee,event_date)\n",
    "\"\"\")"
   ]
  },
  {
   "cell_type": "code",
   "execution_count": 0,
   "metadata": {
    "application/vnd.databricks.v1+cell": {
     "cellMetadata": {
      "byteLimit": 2048000,
      "rowLimit": 10000
     },
     "inputWidgets": {},
     "nuid": "218d123b-743e-4c1a-9d3c-3a4ecf8500d7",
     "showTitle": false,
     "tableResultSettingsMap": {},
     "title": ""
    }
   },
   "outputs": [],
   "source": [
    "spark.sql(f\"\"\"\n",
    "    CREATE TABLE IF NOT EXISTS {catalog_name}.{gold_schema_name}.gld_customers_districts (\n",
    "        event_year INT,\n",
    "        event_month INT,\n",
    "        district STRING,\n",
    "        total_customers_per_district LONG NOT NULL,\n",
    "        percent_total_customers_per_district DECIMAL(27,2),\n",
    "        difference_in_customers_from_last_month LONG NOT NULL,\n",
    "        total_employees_per_district LONG NOT NULL,\n",
    "        percent_total_employees_per_district DECIMAL(27,2),\n",
    "        difference_in_employees_from_last_month LONG NOT NULL,\n",
    "        employees_per_customer_ratio DOUBLE,\n",
    "        total_products_sold LONG,\n",
    "        percent_total_products_sold DECIMAL(27,2),\n",
    "        difference_in_products_sold_from_last_month LONG\n",
    "    )\n",
    "    PARTITIONED BY (event_year, event_month, district)\n",
    "\"\"\")"
   ]
  },
  {
   "cell_type": "code",
   "execution_count": 0,
   "metadata": {
    "application/vnd.databricks.v1+cell": {
     "cellMetadata": {
      "byteLimit": 2048000,
      "rowLimit": 10000
     },
     "inputWidgets": {},
     "nuid": "a0216335-3076-4c66-89dc-534f8a65b382",
     "showTitle": false,
     "tableResultSettingsMap": {},
     "title": ""
    }
   },
   "outputs": [],
   "source": [
    "spark.sql(f\"\"\"\n",
    "    CREATE TABLE IF NOT EXISTS {catalog_name}.{gold_schema_name}.gld_best_customers (\n",
    "        event_year INT,\n",
    "        event_month INT,\n",
    "        customer STRING,\n",
    "        total_products_bought LONG,\n",
    "        best_customer_rank INT NOT NULL,\n",
    "        percent_total_products_bought DECIMAL(27,2),\n",
    "        difference_in_products_bought_from_last_month LONG\n",
    "    )\n",
    "    PARTITIONED BY (event_year, event_month, customer)\n",
    "\"\"\")"
   ]
  },
  {
   "cell_type": "code",
   "execution_count": 0,
   "metadata": {
    "application/vnd.databricks.v1+cell": {
     "cellMetadata": {
      "byteLimit": 2048000,
      "rowLimit": 10000
     },
     "inputWidgets": {},
     "nuid": "dc0e920e-faa9-4f53-bc1d-aec11c1e7f66",
     "showTitle": false,
     "tableResultSettingsMap": {},
     "title": ""
    }
   },
   "outputs": [],
   "source": [
    "spark.sql(f\"\"\"\n",
    "    CREATE TABLE IF NOT EXISTS {catalog_name}.{gold_schema_name}.gld_best_employees (\n",
    "        event_year INT,\n",
    "        event_month INT,\n",
    "        employee STRING,\n",
    "        total_products_sold LONG,\n",
    "        best_employee_rank INT NOT NULL,\n",
    "        percent_total_products_sold DECIMAL(27,2),\n",
    "        difference_in_products_sold_from_last_month LONG\n",
    "    )\n",
    "    PARTITIONED BY (event_year, event_month, employee)\n",
    "\"\"\")"
   ]
  },
  {
   "cell_type": "code",
   "execution_count": 0,
   "metadata": {
    "application/vnd.databricks.v1+cell": {
     "cellMetadata": {
      "byteLimit": 2048000,
      "rowLimit": 10000
     },
     "collapsed": true,
     "inputWidgets": {},
     "nuid": "88279adb-461a-45f4-9a89-aff9f7a5af82",
     "showTitle": false,
     "tableResultSettingsMap": {},
     "title": ""
    }
   },
   "outputs": [],
   "source": [
    "spark.sql(f\"\"\"\n",
    "    CREATE TABLE IF NOT EXISTS {catalog_name}.{gold_schema_name}.demand_forecast (\n",
    "        district STRING,\n",
    "        event_datetime TIMESTAMP,\n",
    "        sum_quantity_products DOUBLE\n",
    "    )\n",
    "\"\"\")"
   ]
  },
  {
   "cell_type": "markdown",
   "metadata": {
    "application/vnd.databricks.v1+cell": {
     "cellMetadata": {},
     "inputWidgets": {},
     "nuid": "370fa29a-28e2-4e24-b192-f95c7403b364",
     "showTitle": false,
     "tableResultSettingsMap": {},
     "title": ""
    }
   },
   "source": [
    "### Views"
   ]
  },
  {
   "cell_type": "code",
   "execution_count": 0,
   "metadata": {
    "application/vnd.databricks.v1+cell": {
     "cellMetadata": {},
     "inputWidgets": {},
     "nuid": "78f0b2f8-f61c-4f24-a355-9d171a3e9af1",
     "showTitle": false,
     "tableResultSettingsMap": {},
     "title": ""
    }
   },
   "outputs": [],
   "source": [
    "spark.sql(f\"\"\"\n",
    "CREATE OR REPLACE VIEW {catalog_name}.{gold_schema_name}.vw_gld_sales AS\n",
    "SELECT \n",
    "    s.order_id\n",
    "    ,e.name as employee\n",
    "    ,c.name as customer\n",
    "    ,s.latitude\n",
    "    ,s.longitude\n",
    "    ,s.district\n",
    "    ,s.quantity_products\n",
    "    ,s.partition_date\n",
    "    ,s.event_day\n",
    "    ,s.event_month\n",
    "    ,s.event_year\n",
    "    ,date(s.event_date)\n",
    "FROM \n",
    "    {catalog_name}.{silver_schema_name}.slv_sales as s\n",
    "    JOIN \n",
    "        {catalog_name}.{silver_schema_name}.slv_customers as c\n",
    "    ON \n",
    "        s.customer_id = c.customer_id\n",
    "    JOIN \n",
    "        {catalog_name}.{silver_schema_name}.slv_employees as e\n",
    "    ON\n",
    "        s.employee_id=e.employee_id\n",
    "\"\"\"\n",
    ")"
   ]
  },
  {
   "cell_type": "code",
   "execution_count": 0,
   "metadata": {
    "application/vnd.databricks.v1+cell": {
     "cellMetadata": {},
     "inputWidgets": {},
     "nuid": "47262c3b-c695-4a51-b6de-c39f7964ff16",
     "showTitle": false,
     "tableResultSettingsMap": {},
     "title": ""
    }
   },
   "outputs": [],
   "source": [
    "spark.sql(f\"\"\"\n",
    "CREATE OR REPLACE VIEW {catalog_name}.{gold_schema_name}.vw_gld_sales_districts AS\n",
    "SELECT \n",
    "    b.event_date\n",
    "    ,b.district\n",
    "    ,COUNT(b.order_id) as total_sales_per_day\n",
    "    ,DENSE_RANK() OVER (PARTITION BY b.event_date ORDER BY COUNT(b.order_id) DESC) as sales_rank\n",
    "    ,ROUND(\n",
    "        COUNT(b.order_id) * 100.0 / \n",
    "        SUM(COUNT(b.order_id)) OVER (PARTITION BY b.event_date), \n",
    "        2\n",
    "    ) AS percent_total_sales_per_day\n",
    "    ,SUM(b.quantity_products) as  total_products_sold_per_day\n",
    "    ,ROUND(\n",
    "        SUM(b.quantity_products) * 100.0 / \n",
    "        SUM(SUM(b.quantity_products)) OVER (PARTITION BY b.event_date), \n",
    "        2\n",
    "    ) AS percent_products_sold_per_day\n",
    "FROM \n",
    "    {catalog_name}.{gold_schema_name}.vw_gld_sales b\n",
    "GROUP BY\n",
    "    b.event_date, b.district\n",
    "\"\"\"\n",
    ")"
   ]
  },
  {
   "cell_type": "code",
   "execution_count": 0,
   "metadata": {
    "application/vnd.databricks.v1+cell": {
     "cellMetadata": {},
     "inputWidgets": {},
     "nuid": "a8dfda63-8e51-4945-b544-1df5aadd5fa8",
     "showTitle": false,
     "tableResultSettingsMap": {},
     "title": ""
    }
   },
   "outputs": [],
   "source": [
    "spark.sql(f\"\"\"\n",
    "CREATE OR REPLACE VIEW {catalog_name}.{gold_schema_name}.vw_gld_sales_employees AS\n",
    "SELECT \n",
    "    b.event_date\n",
    "    ,b.employee\n",
    "    ,ROUND(SUM(b.quantity_products)*100.0/COUNT(b.order_id),2) as employee_effectiveness\n",
    "    ,DENSE_RANK() OVER (PARTITION BY b.event_date ORDER BY SUM(b.quantity_products) * 1.0 / COUNT(b.order_id) DESC) as effectiveness_rank\n",
    "    ,COUNT(b.order_id) as  total_sales_per_day\n",
    "    ,DENSE_RANK() OVER (PARTITION BY b.event_date ORDER BY COUNT(b.order_id) DESC) as sales_rank\n",
    "    ,ROUND(\n",
    "        COUNT(b.order_id) * 100.0 / \n",
    "        SUM(COUNT(b.order_id)) OVER (PARTITION BY b.event_date), \n",
    "        2\n",
    "    ) AS percent_total_sales_per_day\n",
    "    ,SUM(b.quantity_products) as  total_products_sold_per_day\n",
    "    ,ROUND(\n",
    "        SUM(b.quantity_products) * 100.0 / \n",
    "        SUM(SUM(b.quantity_products)) OVER (PARTITION BY b.event_date), \n",
    "        2\n",
    "    ) AS percent_products_sold_per_day\n",
    "FROM \n",
    "    {catalog_name}.{gold_schema_name}.vw_gld_sales b\n",
    "GROUP BY\n",
    "    b.employee, b.event_date\n",
    "\"\"\"\n",
    ")"
   ]
  },
  {
   "cell_type": "code",
   "execution_count": 0,
   "metadata": {
    "application/vnd.databricks.v1+cell": {
     "cellMetadata": {},
     "inputWidgets": {},
     "nuid": "58c0bc60-7eb5-4b37-bc90-c090890eaa1b",
     "showTitle": false,
     "tableResultSettingsMap": {},
     "title": ""
    }
   },
   "outputs": [],
   "source": [
    "spark.sql(f\"\"\"\n",
    "CREATE OR REPLACE VIEW {catalog_name}.{gold_schema_name}.vw_gld_customers_districts AS\n",
    "SELECT \n",
    "  b.event_year\n",
    "  ,b.event_month\n",
    "  ,b.district\n",
    "  ,COUNT(DISTINCT b.customer) as total_customers_per_district\n",
    "  ,ROUND(\n",
    "        COUNT(DISTINCT b.customer) * 100.0 / \n",
    "        SUM(COUNT(DISTINCT b.customer)) OVER (PARTITION BY b.event_year,b.event_month), \n",
    "        2\n",
    "    ) AS percent_total_customers_per_district\n",
    "  ,COUNT(DISTINCT b.customer) - \n",
    "  LAG(COUNT(DISTINCT b.customer),1, COUNT(DISTINCT b.customer)) OVER (PARTITION BY b.district ORDER BY b.event_year,b.event_month) AS difference_in_customers_from_last_month\n",
    "  ,COUNT(DISTINCT b.employee) as total_employees_per_district\n",
    "  ,ROUND(\n",
    "        COUNT(DISTINCT b.employee) * 100.0 / \n",
    "        SUM(COUNT(DISTINCT b.employee)) OVER (PARTITION BY b.event_year,b.event_month), \n",
    "        2\n",
    "    ) AS percent_total_employees_per_district\n",
    "  ,COUNT(DISTINCT b.employee) - \n",
    "  LAG(COUNT(DISTINCT b.employee),1, COUNT(DISTINCT b.employee)) OVER (PARTITION BY b.district ORDER BY b.event_year,b.event_month) AS difference_in_employees_from_last_month\n",
    "  ,ROUND(COUNT(DISTINCT b.customer)/COUNT(DISTINCT b.employee),0) AS employees_per_customer_ratio\n",
    "  ,SUM(b.quantity_products) AS total_products_sold\n",
    "  ,ROUND(\n",
    "        SUM(b.quantity_products) * 100.0 / \n",
    "        SUM(SUM(b.quantity_products)) OVER (PARTITION BY b.event_year,b.event_month), \n",
    "        2\n",
    "    ) AS percent_total_products_sold\n",
    "  ,SUM(b.quantity_products) - \n",
    "  LAG(SUM(b.quantity_products),1, SUM(b.quantity_products)) OVER (PARTITION BY b.district ORDER BY b.event_year,b.event_month) AS difference_in_products_sold_from_last_month\n",
    "\n",
    "FROM  \n",
    "  {catalog_name}.{gold_schema_name}.vw_gld_sales b\n",
    "GROUP BY\n",
    "  b.event_year,b.event_month,b.district\n",
    "\"\"\"\n",
    ")"
   ]
  },
  {
   "cell_type": "code",
   "execution_count": 0,
   "metadata": {
    "application/vnd.databricks.v1+cell": {
     "cellMetadata": {},
     "inputWidgets": {},
     "nuid": "5e3abf14-0d47-4428-afe1-de601279ca67",
     "showTitle": false,
     "tableResultSettingsMap": {},
     "title": ""
    }
   },
   "outputs": [],
   "source": [
    "spark.sql(f\"\"\"\n",
    "CREATE OR REPLACE VIEW {catalog_name}.{gold_schema_name}.vw_gld_best_customers AS \n",
    "SELECT \n",
    "    b.event_year\n",
    "    ,b.event_month\n",
    "    ,b.customer\n",
    "    ,sum(b.quantity_products) as total_products_bought\n",
    "    ,DENSE_RANK() OVER (PARTITION BY b.event_year,b.event_month ORDER BY sum(b.quantity_products) DESC) as best_customer_rank\n",
    "    ,ROUND(\n",
    "        SUM(b.quantity_products) * 100.0 / \n",
    "        SUM(SUM(b.quantity_products)) OVER (PARTITION BY b.event_year,b.event_month), \n",
    "        2\n",
    "    ) AS percent_total_products_bought\n",
    "    ,\n",
    "    SUM(b.quantity_products) - LAG(SUM(b.quantity_products),1,SUM(b.quantity_products)) OVER (PARTITION BY b.customer ORDER BY b.event_year,b.event_month) AS difference_in_products_bought_from_last_month\n",
    "FROM\n",
    "    {catalog_name}.{gold_schema_name}.vw_gld_sales b\n",
    "GROUP BY\n",
    "    b.event_year,b.event_month,b.customer\n",
    "\"\"\"\n",
    ")"
   ]
  },
  {
   "cell_type": "code",
   "execution_count": 0,
   "metadata": {
    "application/vnd.databricks.v1+cell": {
     "cellMetadata": {},
     "inputWidgets": {},
     "nuid": "5f784079-d4f3-4b5d-b091-05f70dd80b3e",
     "showTitle": false,
     "tableResultSettingsMap": {},
     "title": ""
    }
   },
   "outputs": [],
   "source": [
    "spark.sql(f\"\"\"\n",
    "CREATE OR REPLACE VIEW {catalog_name}.{gold_schema_name}.vw_gld_best_employees AS\n",
    "SELECT \n",
    "    b.event_year\n",
    "    ,b.event_month\n",
    "    ,b.employee\n",
    "    ,sum(b.quantity_products) as total_products_sold\n",
    "    ,DENSE_RANK() OVER (PARTITION BY b.event_year,b.event_month ORDER BY sum(b.quantity_products) DESC) as best_employee_rank\n",
    "    ,ROUND(\n",
    "        SUM(b.quantity_products) * 100.0 / \n",
    "        SUM(SUM(b.quantity_products)) OVER (PARTITION BY b.event_year,b.event_month), \n",
    "        2\n",
    "    ) AS percent_total_products_sold\n",
    "    ,\n",
    "    SUM(b.quantity_products) - LAG(SUM(b.quantity_products),1,SUM(b.quantity_products)) OVER (PARTITION BY b.employee ORDER BY b.event_year,b.event_month) AS difference_in_products_sold_from_last_month\n",
    "FROM\n",
    "    {catalog_name}.{gold_schema_name}.vw_gld_sales b\n",
    "GROUP BY\n",
    "    b.event_year,b.event_month,b.employee\n",
    "\"\"\"\n",
    ")"
   ]
  }
 ],
 "metadata": {
  "application/vnd.databricks.v1+notebook": {
   "computePreferences": null,
   "dashboards": [],
   "environmentMetadata": {
    "base_environment": "",
    "environment_version": "2"
   },
   "inputWidgetPreferences": null,
   "language": "python",
   "notebookMetadata": {
    "mostRecentlyExecutedCommandWithImplicitDF": {
     "commandId": 7643627261828655,
     "dataframes": [
      "_sqldf"
     ]
    },
    "pythonIndentUnit": 4
   },
   "notebookName": "artifacts",
   "widgets": {}
  },
  "language_info": {
   "name": "python"
  }
 },
 "nbformat": 4,
 "nbformat_minor": 0
}
