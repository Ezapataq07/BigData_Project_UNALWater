{
 "cells": [
  {
   "cell_type": "code",
   "execution_count": 0,
   "metadata": {
    "application/vnd.databricks.v1+cell": {
     "cellMetadata": {},
     "inputWidgets": {},
     "nuid": "48789ee6-003f-43fc-b86c-472f85ec97a8",
     "showTitle": false,
     "tableResultSettingsMap": {},
     "title": ""
    }
   },
   "outputs": [],
   "source": [
    "%run ./variables"
   ]
  },
  {
   "cell_type": "code",
   "execution_count": 0,
   "metadata": {
    "application/vnd.databricks.v1+cell": {
     "cellMetadata": {},
     "inputWidgets": {},
     "nuid": "61c11188-b0be-4cb4-aabc-7c37ce139af0",
     "showTitle": false,
     "tableResultSettingsMap": {},
     "title": ""
    }
   },
   "outputs": [],
   "source": [
    "from pyspark.sql.functions import lit\n",
    "from pyspark.sql.types import StringType, StructType, StructField, ArrayType, DoubleType\n",
    "from shapely.wkb import loads as wkb_loads\n",
    "import json"
   ]
  },
  {
   "cell_type": "code",
   "execution_count": 0,
   "metadata": {
    "application/vnd.databricks.v1+cell": {
     "cellMetadata": {},
     "inputWidgets": {},
     "nuid": "fa679dde-7f4b-491d-9819-63d66f056567",
     "showTitle": false,
     "tableResultSettingsMap": {},
     "title": ""
    }
   },
   "outputs": [],
   "source": [
    "geojson_schema_polygon = StructType([\n",
    "    StructField(\"type\", StringType(), True),\n",
    "    StructField(\"coordinates\", ArrayType(\n",
    "        ArrayType(\n",
    "            ArrayType(\n",
    "                DoubleType()\n",
    "            )\n",
    "        )\n",
    "    ), True)\n",
    "])\n",
    "\n",
    "geojson_schema_multipolygon = StructType([\n",
    "    StructField(\"type\", StringType(), True),\n",
    "    StructField(\"coordinates\", ArrayType(\n",
    "        ArrayType(\n",
    "            ArrayType(\n",
    "                ArrayType(\n",
    "                    DoubleType()\n",
    "                )\n",
    "            )\n",
    "        )\n",
    "    ), True)\n",
    "])"
   ]
  },
  {
   "cell_type": "code",
   "execution_count": 0,
   "metadata": {
    "application/vnd.databricks.v1+cell": {
     "cellMetadata": {},
     "inputWidgets": {},
     "nuid": "ba1b9b1e-fa1d-44d4-8c86-3e04fc07b358",
     "showTitle": false,
     "tableResultSettingsMap": {},
     "title": ""
    }
   },
   "outputs": [],
   "source": [
    "def substitute_fields(bronze_df, source_id, target_id):\n",
    "    # Get values from source_id row\n",
    "    source_row = bronze_df.filter(col(\"object_id\") == source_id).select(\n",
    "        \"name\", \"identification\", \"limit_municipality_id\"\n",
    "    ).limit(1).collect()[0]\n",
    "    name_val = source_row[\"name\"]\n",
    "    identification_val = source_row[\"identification\"]\n",
    "    limit_municipality_id_val = source_row[\"limit_municipality_id\"]\n",
    "\n",
    "    # Replace values in target_id row\n",
    "    bronze_df = bronze_df.withColumn(\n",
    "        \"name\",\n",
    "        when(col(\"object_id\") == target_id, lit(name_val)).otherwise(col(\"name\"))\n",
    "    ).withColumn(\n",
    "        \"identification\",\n",
    "        when(col(\"object_id\") == target_id, lit(identification_val)).otherwise(col(\"identification\"))\n",
    "    ).withColumn(\n",
    "        \"limit_municipality_id\",\n",
    "        when(col(\"object_id\") == target_id, lit(limit_municipality_id_val)).otherwise(col(\"limit_municipality_id\"))\n",
    "    )\n",
    "    return bronze_df"
   ]
  },
  {
   "cell_type": "code",
   "execution_count": 0,
   "metadata": {
    "application/vnd.databricks.v1+cell": {
     "cellMetadata": {},
     "inputWidgets": {},
     "nuid": "4b44adef-e62d-4900-95ed-62f565f678b8",
     "showTitle": false,
     "tableResultSettingsMap": {},
     "title": ""
    }
   },
   "outputs": [],
   "source": [
    "def wkb_to_geojson(wkb_bytes):\n",
    "    \"\"\"\n",
    "    Converts WKB (Well-Known Binary) geometry bytes to a GeoJSON string.\n",
    "    Args:\n",
    "        wkb_bytes (bytes): The WKB geometry as bytes.\n",
    "    Returns:\n",
    "        str or None: The GeoJSON representation as a string, or None if conversion fails.\n",
    "    \"\"\"\n",
    "    try:\n",
    "        geom = wkb_loads(bytes(wkb_bytes))\n",
    "        return json.dumps(geom.__geo_interface__)\n",
    "    except Exception as e:\n",
    "        return None\n",
    "\n",
    "wkb_to_geojson_udf = udf(wkb_to_geojson, StringType())"
   ]
  }
 ],
 "metadata": {
  "application/vnd.databricks.v1+notebook": {
   "computePreferences": {
    "hardware": {
     "accelerator": null,
     "gpuPoolId": null,
     "memory": null
    }
   },
   "dashboards": [],
   "environmentMetadata": {
    "base_environment": "",
    "dependencies": [
     "shapely==2.1.1"
    ],
    "environment_version": "2"
   },
   "inputWidgetPreferences": null,
   "language": "python",
   "notebookMetadata": {
    "pythonIndentUnit": 4
   },
   "notebookName": "utils",
   "widgets": {}
  },
  "language_info": {
   "name": "python"
  }
 },
 "nbformat": 4,
 "nbformat_minor": 0
}
