{
 "cells": [
  {
   "cell_type": "code",
   "execution_count": 0,
   "metadata": {
    "application/vnd.databricks.v1+cell": {
     "cellMetadata": {},
     "inputWidgets": {},
     "nuid": "4bb49e1b-bd14-45e7-9d76-8ef7c49f9546",
     "showTitle": false,
     "tableResultSettingsMap": {},
     "title": ""
    }
   },
   "outputs": [],
   "source": [
    "catalog_name = 'workspace'"
   ]
  },
  {
   "cell_type": "code",
   "execution_count": 0,
   "metadata": {
    "application/vnd.databricks.v1+cell": {
     "cellMetadata": {},
     "inputWidgets": {},
     "nuid": "a7f06a86-1358-4446-9d4e-da5dc5f05d15",
     "showTitle": false,
     "tableResultSettingsMap": {},
     "title": ""
    }
   },
   "outputs": [],
   "source": [
    "bronze_schema_name = 'bronze'\n",
    "silver_schema_name = 'silver'\n",
    "gold_schema_name = 'gold'"
   ]
  },
  {
   "cell_type": "code",
   "execution_count": 0,
   "metadata": {
    "application/vnd.databricks.v1+cell": {
     "cellMetadata": {},
     "inputWidgets": {},
     "nuid": "6b0c194a-5aa1-4909-a2ad-60936d403401",
     "showTitle": false,
     "tableResultSettingsMap": {},
     "title": ""
    }
   },
   "outputs": [],
   "source": [
    "staging_volume_name = 'staging'\n",
    "silver_volume_name = 'checkpoints'\n",
    "gold_volume_name = 'checkpoints'\n",
    "\n",
    "staging_volume_path = f'/Volumes/{catalog_name}/{bronze_schema_name}/{staging_volume_name}'\n",
    "silver_volume_path = f'/Volumes/{catalog_name}/{silver_schema_name}/{silver_volume_name}'\n",
    "gold_volume_path = f'/Volumes/{catalog_name}/{gold_schema_name}/{gold_volume_name}'"
   ]
  },
  {
   "cell_type": "code",
   "execution_count": 0,
   "metadata": {
    "application/vnd.databricks.v1+cell": {
     "cellMetadata": {},
     "inputWidgets": {},
     "nuid": "05dba04b-e80e-4dc3-ab1a-6af61d917f77",
     "showTitle": false,
     "tableResultSettingsMap": {},
     "title": ""
    }
   },
   "outputs": [],
   "source": [
    "customers_volume_path = f'{staging_volume_path}/customers/'\n",
    "employees_volume_path = f'{staging_volume_path}/employees/'\n",
    "municipalities_volume_path = f'{staging_volume_path}/municipalities/'\n",
    "neighborhoods_volume_path = f'{staging_volume_path}/neighborhoods/'\n",
    "sales_volume_path = f'{staging_volume_path}/sales/'\n",
    "bronze_checkpoint_path = f\"{staging_volume_path}/sales_checkpoints\"\n",
    "silver_checkpoint_path = f\"{silver_volume_path}/sales_checkpoints\"\n",
    "gold_checkpoint_path = f\"{gold_volume_path}/sales_checkpoints\""
   ]
  }
 ],
 "metadata": {
  "application/vnd.databricks.v1+notebook": {
   "computePreferences": null,
   "dashboards": [],
   "environmentMetadata": {
    "base_environment": "",
    "environment_version": "2"
   },
   "inputWidgetPreferences": null,
   "language": "python",
   "notebookMetadata": {
    "pythonIndentUnit": 4
   },
   "notebookName": "variables",
   "widgets": {}
  },
  "language_info": {
   "name": "python"
  }
 },
 "nbformat": 4,
 "nbformat_minor": 0
}
